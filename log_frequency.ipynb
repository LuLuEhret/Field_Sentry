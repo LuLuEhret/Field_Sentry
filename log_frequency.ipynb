{
 "cells": [
  {
   "cell_type": "code",
   "execution_count": 1,
   "metadata": {},
   "outputs": [],
   "source": [
    "from insolAPI.WebAPI import API\n",
    "import simplejson as json\n",
    "import pandas as pd\n",
    "import pendulum as pdl\n",
    "import matplotlib.pyplot as plt\n",
    "import plotly.graph_objects as go\n",
    "from datetime import datetime, timedelta\n",
    "import warnings\n",
    "from tqdm import tqdm\n",
    "import sys\n",
    "from tabulate import tabulate\n",
    "from pytz import timezone"
   ]
  },
  {
   "cell_type": "code",
   "execution_count": 2,
   "metadata": {},
   "outputs": [],
   "source": [
    "time_args = dict(\n",
    "    start=pdl.yesterday().subtract(weeks=1).to_datetime_string(),\n",
    "    stop=(pdl.now()).to_datetime_string(),\n",
    "    timezone = timezone('Europe/Zurich')\n",
    ")\n",
    "\n",
    "def read_json_config():\n",
    "    \"\"\"\n",
    "    Read the config.json file and return the api key\n",
    "    \"\"\"\n",
    "    with open(\"config.json\") as f:\n",
    "        config_data = json.load(f)\n",
    "\n",
    "    installations = {}\n",
    "\n",
    "    # Iterate through locations\n",
    "    locations = config_data['locations']\n",
    "    for location in locations:\n",
    "        # Store details in a dictionary\n",
    "        location_details = {\n",
    "            'id': location['id'],\n",
    "            'name': location['name'],\n",
    "            'latitude': location['latitude'],\n",
    "            'longitude': location['longitude'],\n",
    "            'wind_threshold': location['wind_threshold'],\n",
    "            'high_temperature_threshold': location['high_temperature_threshold'],\n",
    "            'has_a_screen': location['has_a_screen'],\n",
    "        }\n",
    "        installations[location['name']] = location_details\n",
    "    return installations, [config_data['api_key'], config_data['api_url']]\n",
    "\n",
    "\n",
    "installation_path = \"C:/Users/Insolight/Desktop/InsolReports/Scripts\"\n",
    "with open(installation_path + \"/local.json\") as f:\n",
    "    local_data = json.load(f)\n",
    "api = API(local_data[\"API_user\"], local_data[\"API_pwd\"], dev_space=False)\n",
    "\n",
    "list_sensor = [\n",
    "    \"PAR\",\n",
    "    \"IRRAD\",\n",
    "    \"GII\",\n",
    "    \"DNI\",\n",
    "    \"DHI\",\n",
    "    \"TEMP\",\n",
    "    \"HUMI\",\n",
    "    \"RAIN\",\n",
    "    \"RAIN_TYPE\",\n",
    "    \"RAIN_ACCUMULATED\",\n",
    "    \"WIND\",\n",
    "    \"WIND_DIR\",\n",
    "    \"VIRTUAL\",\n",
    "    \"LEAF_TEMP\"\n",
    "]\n",
    "\n",
    "dict_instal = {\n",
    "    \"Etchelecu\": 26,\n",
    "    \"Agroscope Series\": 24,\n",
    "    \"Agroscope Berries\": 25,\n",
    "    \"Bioschmid\": 23,\n",
    "}"
   ]
  },
  {
   "cell_type": "code",
   "execution_count": 4,
   "metadata": {},
   "outputs": [
    {
     "ename": "NameError",
     "evalue": "name 'instal' is not defined",
     "output_type": "error",
     "traceback": [
      "\u001b[1;31m---------------------------------------------------------------------------\u001b[0m",
      "\u001b[1;31mNameError\u001b[0m                                 Traceback (most recent call last)",
      "Cell \u001b[1;32mIn[4], line 1\u001b[0m\n\u001b[1;32m----> 1\u001b[0m dict_instal[\u001b[43minstal\u001b[49m]\n",
      "\u001b[1;31mNameError\u001b[0m: name 'instal' is not defined"
     ]
    }
   ],
   "source": [
    "dict_instal[instal]"
   ]
  },
  {
   "cell_type": "code",
   "execution_count": 24,
   "metadata": {},
   "outputs": [
    {
     "name": "stderr",
     "output_type": "stream",
     "text": [
      "100%|██████████| 4/4 [00:38<00:00,  9.53s/it]\n"
     ]
    }
   ],
   "source": [
    "logs_joined = {}\n",
    "for instal in tqdm(dict_instal):\n",
    "    logs_joined[instal] = {}\n",
    "    sensor_number = 0\n",
    "    for sensor_type in api.SensorsTypes:\n",
    "        if str(sensor_type).split(\".\")[1] in list_sensor:\n",
    "            with warnings.catch_warnings():\n",
    "                warnings.simplefilter(\"ignore\", category=UserWarning)\n",
    "                logs_joined[instal][list_sensor[sensor_number]] = api.get_sensor_channels_logs_joined(**time_args,sensor_type=sensor_type, install=dict_instal[instal])\n",
    "                sensor_number += 1"
   ]
  },
  {
   "cell_type": "code",
   "execution_count": 23,
   "metadata": {},
   "outputs": [
    {
     "ename": "AttributeError",
     "evalue": "'DatetimeIndex' object has no attribute 'columns'",
     "output_type": "error",
     "traceback": [
      "\u001b[1;31m---------------------------------------------------------------------------\u001b[0m",
      "\u001b[1;31mAttributeError\u001b[0m                            Traceback (most recent call last)",
      "Cell \u001b[1;32mIn[23], line 28\u001b[0m\n\u001b[0;32m     25\u001b[0m             \u001b[38;5;28;01mpass\u001b[39;00m\n\u001b[0;32m     27\u001b[0m \u001b[38;5;28;01mfor\u001b[39;00m sensor \u001b[38;5;129;01min\u001b[39;00m logs_joined_unique[instal]:\n\u001b[1;32m---> 28\u001b[0m     logs_joined_unique[instal][sensor] \u001b[38;5;241m=\u001b[39m logs_joined_unique[instal][sensor]\u001b[38;5;241m.\u001b[39mdropna(subset\u001b[38;5;241m=\u001b[39m[\u001b[43mlogs_joined_unique\u001b[49m\u001b[43m[\u001b[49m\u001b[43minstal\u001b[49m\u001b[43m]\u001b[49m\u001b[43m[\u001b[49m\u001b[43msensor\u001b[49m\u001b[43m]\u001b[49m\u001b[38;5;241;43m.\u001b[39;49m\u001b[43mcolumns\u001b[49m[\u001b[38;5;241m1\u001b[39m]])\n\u001b[0;32m     30\u001b[0m last_log[instal] \u001b[38;5;241m=\u001b[39m {}\n\u001b[0;32m     31\u001b[0m \u001b[38;5;28;01mfor\u001b[39;00m sensor \u001b[38;5;129;01min\u001b[39;00m logs_joined_unique[instal]:\n",
      "\u001b[1;31mAttributeError\u001b[0m: 'DatetimeIndex' object has no attribute 'columns'"
     ]
    }
   ],
   "source": [
    "unique_sensors = {}\n",
    "logs_joined_unique = {}\n",
    "last_log = {}\n",
    "for instal in dict_instal:\n",
    "    unique_sensors[instal] = []\n",
    "    for sensor_type in logs_joined[instal]:\n",
    "        try:\n",
    "            unique_sensors[instal].extend(logs_joined[instal][sensor_type][\"sensor_name\"].unique())\n",
    "        except :\n",
    "            pass\n",
    "\n",
    "    logs_joined_unique[instal] = {}\n",
    "    for sensor_type in logs_joined[instal]:\n",
    "        for unique_sensor in unique_sensors[instal]:\n",
    "            try:\n",
    "                if unique_sensor in logs_joined[instal][sensor_type][\"sensor_name\"].unique():\n",
    "                    logs_joined_unique[instal][unique_sensor] = logs_joined[instal][sensor_type].loc[logs_joined[instal][sensor_type][\"sensor_name\"] == unique_sensor]\n",
    "                    #round the index to the nearest minute\n",
    "                    logs_joined_unique[instal][unique_sensor].index = logs_joined_unique[instal][unique_sensor].index.round('min')\n",
    "                    logs_joined_unique[instal][unique_sensor] = logs_joined_unique[instal][unique_sensor].index.drop_duplicates(keep='last')\n",
    "                    # remove duplicates based on index and sensor_name\n",
    "                    # logs_joined_unique[instal][unique_sensor] = logs_joined_unique[instal][unique_sensor][~logs_joined_unique[instal][unique_sensor].duplicated(subset=['sensor_name', logs_joined_unique[instal][unique_sensor].index], keep='last')]\n",
    "                    # print(unique_sensor)\n",
    "            except :\n",
    "                pass\n",
    "\n",
    "    for sensor in logs_joined_unique[instal]:\n",
    "        logs_joined_unique[instal][sensor] = logs_joined_unique[instal][sensor].dropna(subset=[logs_joined_unique[instal][sensor].columns[1]])\n",
    "\n",
    "    last_log[instal] = {}\n",
    "    for sensor in logs_joined_unique[instal]:\n",
    "        last_log[instal][sensor] = logs_joined_unique[instal][sensor].index[-1]\n",
    "        if last_log[instal][sensor] > pdl.now().subtract(minutes=10):\n",
    "            last_log[instal][sensor] = \"up to date\""
   ]
  },
  {
   "cell_type": "code",
   "execution_count": 21,
   "metadata": {},
   "outputs": [],
   "source": [
    "logs_joined_unique[\"Agroscope Berries\"][\"LeafTemp_Z2_side_int\"] = logs_joined_unique[\"Agroscope Berries\"][\"LeafTemp_Z2_side_int\"].index.drop_duplicates(keep='last')"
   ]
  },
  {
   "cell_type": "code",
   "execution_count": 22,
   "metadata": {},
   "outputs": [
    {
     "data": {
      "text/plain": [
       "DatetimeIndex(['2023-12-12 00:00:00+01:00', '2023-12-12 00:01:00+01:00',\n",
       "               '2023-12-12 00:02:00+01:00', '2023-12-12 00:03:00+01:00',\n",
       "               '2023-12-12 00:04:00+01:00', '2023-12-12 00:05:00+01:00',\n",
       "               '2023-12-12 00:06:00+01:00', '2023-12-12 00:07:00+01:00',\n",
       "               '2023-12-12 00:08:00+01:00', '2023-12-12 00:09:00+01:00',\n",
       "               ...\n",
       "               '2023-12-20 09:17:00+01:00', '2023-12-20 09:18:00+01:00',\n",
       "               '2023-12-20 09:19:00+01:00', '2023-12-20 09:20:00+01:00',\n",
       "               '2023-12-20 09:21:00+01:00', '2023-12-20 09:22:00+01:00',\n",
       "               '2023-12-20 09:23:00+01:00', '2023-12-20 09:24:00+01:00',\n",
       "               '2023-12-20 09:25:00+01:00', '2023-12-20 09:26:00+01:00'],\n",
       "              dtype='datetime64[ns, Europe/Zurich]', length=12067, freq=None)"
      ]
     },
     "execution_count": 22,
     "metadata": {},
     "output_type": "execute_result"
    }
   ],
   "source": [
    "logs_joined_unique[\"Agroscope Berries\"][\"LeafTemp_Z2_side_int\"]"
   ]
  },
  {
   "cell_type": "code",
   "execution_count": 15,
   "metadata": {},
   "outputs": [
    {
     "data": {
      "text/plain": [
       "array(['temp_avg', 'temp_min', 'temp_max', 'temp_raw', 'temp_sensor'],\n",
       "      dtype=object)"
      ]
     },
     "execution_count": 15,
     "metadata": {},
     "output_type": "execute_result"
    }
   ],
   "source": [
    "logs_joined_unique[\"Agroscope Berries\"][\"LeafTemp_Z2_int_int\"].channel_name.unique()"
   ]
  },
  {
   "cell_type": "markdown",
   "metadata": {},
   "source": [
    "# to add: remove duplicate"
   ]
  },
  {
   "cell_type": "code",
   "execution_count": 5,
   "metadata": {},
   "outputs": [
    {
     "data": {
      "text/html": [
       "<div>\n",
       "<style scoped>\n",
       "    .dataframe tbody tr th:only-of-type {\n",
       "        vertical-align: middle;\n",
       "    }\n",
       "\n",
       "    .dataframe tbody tr th {\n",
       "        vertical-align: top;\n",
       "    }\n",
       "\n",
       "    .dataframe thead th {\n",
       "        text-align: right;\n",
       "    }\n",
       "</style>\n",
       "<table border=\"1\" class=\"dataframe\">\n",
       "  <thead>\n",
       "    <tr style=\"text-align: right;\">\n",
       "      <th></th>\n",
       "      <th>sensor_channel_id</th>\n",
       "      <th>Accumulated rain [mm]</th>\n",
       "      <th>integrated [mm · h]</th>\n",
       "      <th>gateway_id</th>\n",
       "      <th>local_channel_id</th>\n",
       "      <th>created_at</th>\n",
       "      <th>deleted_at</th>\n",
       "      <th>sensor_name</th>\n",
       "      <th>channel_name</th>\n",
       "      <th>sensor_type</th>\n",
       "      <th>...</th>\n",
       "      <th>serial_number</th>\n",
       "      <th>configuration_json</th>\n",
       "      <th>address</th>\n",
       "      <th>dx</th>\n",
       "      <th>dy</th>\n",
       "      <th>dz</th>\n",
       "      <th>nx</th>\n",
       "      <th>ny</th>\n",
       "      <th>zones_ids</th>\n",
       "      <th>zones_names</th>\n",
       "    </tr>\n",
       "  </thead>\n",
       "  <tbody>\n",
       "    <tr>\n",
       "      <th>2023-12-12 00:01:00+01:00</th>\n",
       "      <td>1145</td>\n",
       "      <td>22.55</td>\n",
       "      <td>0.294403</td>\n",
       "      <td>31</td>\n",
       "      <td>33</td>\n",
       "      <td>2023-11-21T10:42:55.000000Z</td>\n",
       "      <td>None</td>\n",
       "      <td>RAIN_EXT</td>\n",
       "      <td>rainfall_acc</td>\n",
       "      <td>233</td>\n",
       "      <td>...</td>\n",
       "      <td>unknown</td>\n",
       "      <td>[]</td>\n",
       "      <td>81</td>\n",
       "      <td>0</td>\n",
       "      <td>0</td>\n",
       "      <td>0</td>\n",
       "      <td>1</td>\n",
       "      <td>1</td>\n",
       "      <td>[]</td>\n",
       "      <td>[]</td>\n",
       "    </tr>\n",
       "    <tr>\n",
       "      <th>2023-12-12 00:02:00+01:00</th>\n",
       "      <td>1145</td>\n",
       "      <td>22.55</td>\n",
       "      <td>0.670236</td>\n",
       "      <td>31</td>\n",
       "      <td>33</td>\n",
       "      <td>2023-11-21T10:42:55.000000Z</td>\n",
       "      <td>None</td>\n",
       "      <td>RAIN_EXT</td>\n",
       "      <td>rainfall_acc</td>\n",
       "      <td>233</td>\n",
       "      <td>...</td>\n",
       "      <td>unknown</td>\n",
       "      <td>[]</td>\n",
       "      <td>81</td>\n",
       "      <td>0</td>\n",
       "      <td>0</td>\n",
       "      <td>0</td>\n",
       "      <td>1</td>\n",
       "      <td>1</td>\n",
       "      <td>[]</td>\n",
       "      <td>[]</td>\n",
       "    </tr>\n",
       "    <tr>\n",
       "      <th>2023-12-12 00:03:00+01:00</th>\n",
       "      <td>1145</td>\n",
       "      <td>22.55</td>\n",
       "      <td>1.046070</td>\n",
       "      <td>31</td>\n",
       "      <td>33</td>\n",
       "      <td>2023-11-21T10:42:55.000000Z</td>\n",
       "      <td>None</td>\n",
       "      <td>RAIN_EXT</td>\n",
       "      <td>rainfall_acc</td>\n",
       "      <td>233</td>\n",
       "      <td>...</td>\n",
       "      <td>unknown</td>\n",
       "      <td>[]</td>\n",
       "      <td>81</td>\n",
       "      <td>0</td>\n",
       "      <td>0</td>\n",
       "      <td>0</td>\n",
       "      <td>1</td>\n",
       "      <td>1</td>\n",
       "      <td>[]</td>\n",
       "      <td>[]</td>\n",
       "    </tr>\n",
       "    <tr>\n",
       "      <th>2023-12-12 00:04:00+01:00</th>\n",
       "      <td>1145</td>\n",
       "      <td>22.55</td>\n",
       "      <td>1.421903</td>\n",
       "      <td>31</td>\n",
       "      <td>33</td>\n",
       "      <td>2023-11-21T10:42:55.000000Z</td>\n",
       "      <td>None</td>\n",
       "      <td>RAIN_EXT</td>\n",
       "      <td>rainfall_acc</td>\n",
       "      <td>233</td>\n",
       "      <td>...</td>\n",
       "      <td>unknown</td>\n",
       "      <td>[]</td>\n",
       "      <td>81</td>\n",
       "      <td>0</td>\n",
       "      <td>0</td>\n",
       "      <td>0</td>\n",
       "      <td>1</td>\n",
       "      <td>1</td>\n",
       "      <td>[]</td>\n",
       "      <td>[]</td>\n",
       "    </tr>\n",
       "    <tr>\n",
       "      <th>2023-12-12 00:05:00+01:00</th>\n",
       "      <td>1145</td>\n",
       "      <td>22.55</td>\n",
       "      <td>1.797736</td>\n",
       "      <td>31</td>\n",
       "      <td>33</td>\n",
       "      <td>2023-11-21T10:42:55.000000Z</td>\n",
       "      <td>None</td>\n",
       "      <td>RAIN_EXT</td>\n",
       "      <td>rainfall_acc</td>\n",
       "      <td>233</td>\n",
       "      <td>...</td>\n",
       "      <td>unknown</td>\n",
       "      <td>[]</td>\n",
       "      <td>81</td>\n",
       "      <td>0</td>\n",
       "      <td>0</td>\n",
       "      <td>0</td>\n",
       "      <td>1</td>\n",
       "      <td>1</td>\n",
       "      <td>[]</td>\n",
       "      <td>[]</td>\n",
       "    </tr>\n",
       "    <tr>\n",
       "      <th>...</th>\n",
       "      <td>...</td>\n",
       "      <td>...</td>\n",
       "      <td>...</td>\n",
       "      <td>...</td>\n",
       "      <td>...</td>\n",
       "      <td>...</td>\n",
       "      <td>...</td>\n",
       "      <td>...</td>\n",
       "      <td>...</td>\n",
       "      <td>...</td>\n",
       "      <td>...</td>\n",
       "      <td>...</td>\n",
       "      <td>...</td>\n",
       "      <td>...</td>\n",
       "      <td>...</td>\n",
       "      <td>...</td>\n",
       "      <td>...</td>\n",
       "      <td>...</td>\n",
       "      <td>...</td>\n",
       "      <td>...</td>\n",
       "      <td>...</td>\n",
       "    </tr>\n",
       "    <tr>\n",
       "      <th>2023-12-20 09:23:00+01:00</th>\n",
       "      <td>1145</td>\n",
       "      <td>64.38</td>\n",
       "      <td>597.513550</td>\n",
       "      <td>31</td>\n",
       "      <td>33</td>\n",
       "      <td>2023-11-21T10:42:55.000000Z</td>\n",
       "      <td>None</td>\n",
       "      <td>RAIN_EXT</td>\n",
       "      <td>rainfall_acc</td>\n",
       "      <td>233</td>\n",
       "      <td>...</td>\n",
       "      <td>unknown</td>\n",
       "      <td>[]</td>\n",
       "      <td>81</td>\n",
       "      <td>0</td>\n",
       "      <td>0</td>\n",
       "      <td>0</td>\n",
       "      <td>1</td>\n",
       "      <td>1</td>\n",
       "      <td>[]</td>\n",
       "      <td>[]</td>\n",
       "    </tr>\n",
       "    <tr>\n",
       "      <th>2023-12-20 09:24:00+01:00</th>\n",
       "      <td>1145</td>\n",
       "      <td>64.38</td>\n",
       "      <td>598.586548</td>\n",
       "      <td>31</td>\n",
       "      <td>33</td>\n",
       "      <td>2023-11-21T10:42:55.000000Z</td>\n",
       "      <td>None</td>\n",
       "      <td>RAIN_EXT</td>\n",
       "      <td>rainfall_acc</td>\n",
       "      <td>233</td>\n",
       "      <td>...</td>\n",
       "      <td>unknown</td>\n",
       "      <td>[]</td>\n",
       "      <td>81</td>\n",
       "      <td>0</td>\n",
       "      <td>0</td>\n",
       "      <td>0</td>\n",
       "      <td>1</td>\n",
       "      <td>1</td>\n",
       "      <td>[]</td>\n",
       "      <td>[]</td>\n",
       "    </tr>\n",
       "    <tr>\n",
       "      <th>2023-12-20 09:25:00+01:00</th>\n",
       "      <td>1145</td>\n",
       "      <td>64.38</td>\n",
       "      <td>599.659546</td>\n",
       "      <td>31</td>\n",
       "      <td>33</td>\n",
       "      <td>2023-11-21T10:42:55.000000Z</td>\n",
       "      <td>None</td>\n",
       "      <td>RAIN_EXT</td>\n",
       "      <td>rainfall_acc</td>\n",
       "      <td>233</td>\n",
       "      <td>...</td>\n",
       "      <td>unknown</td>\n",
       "      <td>[]</td>\n",
       "      <td>81</td>\n",
       "      <td>0</td>\n",
       "      <td>0</td>\n",
       "      <td>0</td>\n",
       "      <td>1</td>\n",
       "      <td>1</td>\n",
       "      <td>[]</td>\n",
       "      <td>[]</td>\n",
       "    </tr>\n",
       "    <tr>\n",
       "      <th>2023-12-20 09:26:00+01:00</th>\n",
       "      <td>1145</td>\n",
       "      <td>64.38</td>\n",
       "      <td>600.732544</td>\n",
       "      <td>31</td>\n",
       "      <td>33</td>\n",
       "      <td>2023-11-21T10:42:55.000000Z</td>\n",
       "      <td>None</td>\n",
       "      <td>RAIN_EXT</td>\n",
       "      <td>rainfall_acc</td>\n",
       "      <td>233</td>\n",
       "      <td>...</td>\n",
       "      <td>unknown</td>\n",
       "      <td>[]</td>\n",
       "      <td>81</td>\n",
       "      <td>0</td>\n",
       "      <td>0</td>\n",
       "      <td>0</td>\n",
       "      <td>1</td>\n",
       "      <td>1</td>\n",
       "      <td>[]</td>\n",
       "      <td>[]</td>\n",
       "    </tr>\n",
       "    <tr>\n",
       "      <th>2023-12-20 09:27:00+01:00</th>\n",
       "      <td>1145</td>\n",
       "      <td>64.38</td>\n",
       "      <td>601.805542</td>\n",
       "      <td>31</td>\n",
       "      <td>33</td>\n",
       "      <td>2023-11-21T10:42:55.000000Z</td>\n",
       "      <td>None</td>\n",
       "      <td>RAIN_EXT</td>\n",
       "      <td>rainfall_acc</td>\n",
       "      <td>233</td>\n",
       "      <td>...</td>\n",
       "      <td>unknown</td>\n",
       "      <td>[]</td>\n",
       "      <td>81</td>\n",
       "      <td>0</td>\n",
       "      <td>0</td>\n",
       "      <td>0</td>\n",
       "      <td>1</td>\n",
       "      <td>1</td>\n",
       "      <td>[]</td>\n",
       "      <td>[]</td>\n",
       "    </tr>\n",
       "  </tbody>\n",
       "</table>\n",
       "<p>11436 rows × 23 columns</p>\n",
       "</div>"
      ],
      "text/plain": [
       "                           sensor_channel_id  Accumulated rain [mm]   \n",
       "2023-12-12 00:01:00+01:00               1145                  22.55  \\\n",
       "2023-12-12 00:02:00+01:00               1145                  22.55   \n",
       "2023-12-12 00:03:00+01:00               1145                  22.55   \n",
       "2023-12-12 00:04:00+01:00               1145                  22.55   \n",
       "2023-12-12 00:05:00+01:00               1145                  22.55   \n",
       "...                                      ...                    ...   \n",
       "2023-12-20 09:23:00+01:00               1145                  64.38   \n",
       "2023-12-20 09:24:00+01:00               1145                  64.38   \n",
       "2023-12-20 09:25:00+01:00               1145                  64.38   \n",
       "2023-12-20 09:26:00+01:00               1145                  64.38   \n",
       "2023-12-20 09:27:00+01:00               1145                  64.38   \n",
       "\n",
       "                           integrated [mm · h]  gateway_id  local_channel_id   \n",
       "2023-12-12 00:01:00+01:00             0.294403          31                33  \\\n",
       "2023-12-12 00:02:00+01:00             0.670236          31                33   \n",
       "2023-12-12 00:03:00+01:00             1.046070          31                33   \n",
       "2023-12-12 00:04:00+01:00             1.421903          31                33   \n",
       "2023-12-12 00:05:00+01:00             1.797736          31                33   \n",
       "...                                        ...         ...               ...   \n",
       "2023-12-20 09:23:00+01:00           597.513550          31                33   \n",
       "2023-12-20 09:24:00+01:00           598.586548          31                33   \n",
       "2023-12-20 09:25:00+01:00           599.659546          31                33   \n",
       "2023-12-20 09:26:00+01:00           600.732544          31                33   \n",
       "2023-12-20 09:27:00+01:00           601.805542          31                33   \n",
       "\n",
       "                                            created_at deleted_at sensor_name   \n",
       "2023-12-12 00:01:00+01:00  2023-11-21T10:42:55.000000Z       None    RAIN_EXT  \\\n",
       "2023-12-12 00:02:00+01:00  2023-11-21T10:42:55.000000Z       None    RAIN_EXT   \n",
       "2023-12-12 00:03:00+01:00  2023-11-21T10:42:55.000000Z       None    RAIN_EXT   \n",
       "2023-12-12 00:04:00+01:00  2023-11-21T10:42:55.000000Z       None    RAIN_EXT   \n",
       "2023-12-12 00:05:00+01:00  2023-11-21T10:42:55.000000Z       None    RAIN_EXT   \n",
       "...                                                ...        ...         ...   \n",
       "2023-12-20 09:23:00+01:00  2023-11-21T10:42:55.000000Z       None    RAIN_EXT   \n",
       "2023-12-20 09:24:00+01:00  2023-11-21T10:42:55.000000Z       None    RAIN_EXT   \n",
       "2023-12-20 09:25:00+01:00  2023-11-21T10:42:55.000000Z       None    RAIN_EXT   \n",
       "2023-12-20 09:26:00+01:00  2023-11-21T10:42:55.000000Z       None    RAIN_EXT   \n",
       "2023-12-20 09:27:00+01:00  2023-11-21T10:42:55.000000Z       None    RAIN_EXT   \n",
       "\n",
       "                           channel_name  sensor_type  ...  serial_number   \n",
       "2023-12-12 00:01:00+01:00  rainfall_acc          233  ...        unknown  \\\n",
       "2023-12-12 00:02:00+01:00  rainfall_acc          233  ...        unknown   \n",
       "2023-12-12 00:03:00+01:00  rainfall_acc          233  ...        unknown   \n",
       "2023-12-12 00:04:00+01:00  rainfall_acc          233  ...        unknown   \n",
       "2023-12-12 00:05:00+01:00  rainfall_acc          233  ...        unknown   \n",
       "...                                 ...          ...  ...            ...   \n",
       "2023-12-20 09:23:00+01:00  rainfall_acc          233  ...        unknown   \n",
       "2023-12-20 09:24:00+01:00  rainfall_acc          233  ...        unknown   \n",
       "2023-12-20 09:25:00+01:00  rainfall_acc          233  ...        unknown   \n",
       "2023-12-20 09:26:00+01:00  rainfall_acc          233  ...        unknown   \n",
       "2023-12-20 09:27:00+01:00  rainfall_acc          233  ...        unknown   \n",
       "\n",
       "                          configuration_json address dx dy  dz  nx  ny   \n",
       "2023-12-12 00:01:00+01:00                 []      81  0  0   0   1   1  \\\n",
       "2023-12-12 00:02:00+01:00                 []      81  0  0   0   1   1   \n",
       "2023-12-12 00:03:00+01:00                 []      81  0  0   0   1   1   \n",
       "2023-12-12 00:04:00+01:00                 []      81  0  0   0   1   1   \n",
       "2023-12-12 00:05:00+01:00                 []      81  0  0   0   1   1   \n",
       "...                                      ...     ... .. ..  ..  ..  ..   \n",
       "2023-12-20 09:23:00+01:00                 []      81  0  0   0   1   1   \n",
       "2023-12-20 09:24:00+01:00                 []      81  0  0   0   1   1   \n",
       "2023-12-20 09:25:00+01:00                 []      81  0  0   0   1   1   \n",
       "2023-12-20 09:26:00+01:00                 []      81  0  0   0   1   1   \n",
       "2023-12-20 09:27:00+01:00                 []      81  0  0   0   1   1   \n",
       "\n",
       "                           zones_ids  zones_names  \n",
       "2023-12-12 00:01:00+01:00         []           []  \n",
       "2023-12-12 00:02:00+01:00         []           []  \n",
       "2023-12-12 00:03:00+01:00         []           []  \n",
       "2023-12-12 00:04:00+01:00         []           []  \n",
       "2023-12-12 00:05:00+01:00         []           []  \n",
       "...                              ...          ...  \n",
       "2023-12-20 09:23:00+01:00         []           []  \n",
       "2023-12-20 09:24:00+01:00         []           []  \n",
       "2023-12-20 09:25:00+01:00         []           []  \n",
       "2023-12-20 09:26:00+01:00         []           []  \n",
       "2023-12-20 09:27:00+01:00         []           []  \n",
       "\n",
       "[11436 rows x 23 columns]"
      ]
     },
     "execution_count": 5,
     "metadata": {},
     "output_type": "execute_result"
    }
   ],
   "source": [
    "name = logs_joined_unique[\"Etchelecu\"][\"RAIN_EXT\"][\"sensor_name\"].duplicated(keep='first').values\n",
    "ind = logs_joined_unique[\"Etchelecu\"][\"RAIN_EXT\"].index.duplicated(keep='first')\n",
    "mask = [name[i] and ind[i] for i in range(len(name))]\n",
    "logs_joined_unique[\"Etchelecu\"][\"RAIN_EXT\"][mask]"
   ]
  },
  {
   "cell_type": "code",
   "execution_count": 30,
   "metadata": {},
   "outputs": [
    {
     "name": "stdout",
     "output_type": "stream",
     "text": [
      "Etchelecu\n",
      "| Sensor                | Last log                  |\n",
      "|-----------------------|---------------------------|\n",
      "| PAR01_Insolagrin      | 2023-12-18 16:23:00+00:00 |\n",
      "| PAR02_Insolagrin      | 2023-12-18 16:23:00+00:00 |\n",
      "| PAR03_Insolagrin      | 2023-12-18 16:23:00+00:00 |\n",
      "| PAR04_Insolagrin      | 2023-12-18 16:23:00+00:00 |\n",
      "| PAR01_EXT             | 2023-12-18 16:23:00+00:00 |\n",
      "| PAR02_EXT             | 2023-12-18 16:23:00+00:00 |\n",
      "| PAR01_control         | 2023-12-18 16:23:00+00:00 |\n",
      "| PAR02_control         | 2023-12-18 16:23:00+00:00 |\n",
      "| GHI_01_EXT            | 2023-12-18 16:23:00+00:00 |\n",
      "| TRH_top_Insolagrin    | 2023-12-18 16:23:00+00:00 |\n",
      "| TRH_bottom_Insolagrin | 2023-12-18 16:22:00+00:00 |\n",
      "| TRH_top_EXT           | 2023-12-18 16:23:00+00:00 |\n",
      "| TRH_bottom_EXT        | 2023-12-18 16:23:00+00:00 |\n",
      "| TRH_top_control       | 2023-12-18 16:23:00+00:00 |\n",
      "| TRH_bottom_control    | 2023-12-18 16:23:00+00:00 |\n",
      "| RAIN_EXT              | 2023-12-18 16:23:00+00:00 |\n",
      "| WIND01_EXT            | 2023-12-18 16:23:00+00:00 |\n",
      "| WIND02_EXT            | 2023-12-18 16:23:00+00:00 |\n",
      "\n",
      "\n",
      "Agroscope Series\n",
      "| Sensor                            | Last log                  |\n",
      "|-----------------------------------|---------------------------|\n",
      "| PAR1                              | 2023-12-18 16:23:00+00:00 |\n",
      "| PAR2                              | 2023-12-18 16:23:00+00:00 |\n",
      "| PAR3                              | 2023-12-18 16:23:00+00:00 |\n",
      "| PAR4                              | 2023-12-18 16:23:00+00:00 |\n",
      "| PAR5                              | 2023-12-18 16:23:00+00:00 |\n",
      "| PAR6                              | 2023-12-18 16:23:00+00:00 |\n",
      "| PAR7                              | 2023-12-18 16:23:00+00:00 |\n",
      "| PAR8                              | 2023-12-18 16:23:00+00:00 |\n",
      "| PAR_ext_bis                       | 2023-12-18 16:23:00+00:00 |\n",
      "| PAR_STRAWB                        | 2023-12-18 16:23:00+00:00 |\n",
      "| PAR_umbrella_strawb               | 2023-12-18 16:23:00+00:00 |\n",
      "| PAR_umbrella                      | 2023-12-18 16:23:00+00:00 |\n",
      "| PAR01_TX_tunnel                   | 2023-12-18 16:23:00+00:00 |\n",
      "| PAR_EXT_04                        | 2023-12-18 16:23:00+00:00 |\n",
      "| PAR_EXT_05                        | 2023-12-18 16:23:00+00:00 |\n",
      "| PAR01_GT_tunnel                   | 2023-12-18 16:23:00+00:00 |\n",
      "| PAR01_GT1_tunnel                  | 2023-12-18 16:23:00+00:00 |\n",
      "| PAR01_Nursery                     | 2023-12-18 16:23:00+00:00 |\n",
      "| PAR_EXT_06                        | 2023-12-18 16:23:00+00:00 |\n",
      "| weather_station                   | 2023-12-18 16:23:00+00:00 |\n",
      "| GHI_EXT_02                        | 2023-12-18 16:23:00+00:00 |\n",
      "| GHI_EXT_03                        | 2023-12-18 16:23:00+00:00 |\n",
      "| GHI_EXT_04                        | 2023-12-18 16:23:00+00:00 |\n",
      "| GHI_EXT                           | 2023-12-18 16:23:00+00:00 |\n",
      "| T_RH_umbrella_top                 | 2023-12-18 16:23:00+00:00 |\n",
      "| T_RH_umbrella_bottom              | 2023-12-18 16:23:00+00:00 |\n",
      "| TRH01_TX_tunnel                   | 2023-12-18 16:23:00+00:00 |\n",
      "| TRH01_GT_tunnel                   | 2023-12-18 16:23:00+00:00 |\n",
      "| TRH02_GT_tunnel                   | 2023-12-18 16:23:00+00:00 |\n",
      "| TRH02_GT1_tunnel                  | 2023-12-18 16:22:00+00:00 |\n",
      "| TRH_top_Nursery                   | 2023-12-18 16:23:00+00:00 |\n",
      "| TRH_bottom_Nursery                | 2023-12-18 16:23:00+00:00 |\n",
      "| TRH_EXT_top                       | 2023-12-18 16:23:00+00:00 |\n",
      "| T_RH1                             | 2023-12-18 16:23:00+00:00 |\n",
      "| T_RH2                             | 2023-12-18 16:23:00+00:00 |\n",
      "| T_RH_ext_bottom                   | 2023-12-18 16:23:00+00:00 |\n",
      "| TRH01_GT1_tunnel                  | 2023-12-18 16:23:00+00:00 |\n",
      "| wind_speed                        | 2023-12-18 16:23:00+00:00 |\n",
      "| wind_speed_ultrasonic             | 2023-12-18 16:23:00+00:00 |\n",
      "| leaf_temp_umbrella1               | 2023-12-18 16:23:00+00:00 |\n",
      "| LeafTemp01_Flair_Insolagrin05_TX  | 2023-12-18 16:23:00+00:00 |\n",
      "| LeafTemp02_Flair_Insolagrin05_TX  | 2023-12-18 16:23:00+00:00 |\n",
      "| LeafTemp01_Joly_Insolagrin05_TX   | 2023-12-18 16:23:00+00:00 |\n",
      "| LeafTemp02_Joly_Insolagrin05_TX   | 2023-12-18 16:23:00+00:00 |\n",
      "| LeafTemp_Vajolet_W_Nursery        | 2023-12-18 16:23:00+00:00 |\n",
      "| LeafTemp_Vajolet_E_Nursery        | 2023-12-18 16:23:00+00:00 |\n",
      "| LeafTemp_Tulameen_W_Nursery       | 2023-12-18 16:23:00+00:00 |\n",
      "| LeafTemp_Tulameen_E_Nursery       | 2023-12-18 16:23:00+00:00 |\n",
      "| LeafTemp_Vajolet_W_NurseryTunnel  | 2023-12-18 16:23:00+00:00 |\n",
      "| leaf_temp_insolagrin_1            | 2023-12-18 16:23:00+00:00 |\n",
      "| LeafTemp_Vajolet_E_NurseryTunnel  | 2023-12-18 16:23:00+00:00 |\n",
      "| LeafTemp_Tulameen_W_NurseryTunnel | 2023-12-18 16:23:00+00:00 |\n",
      "| LeafTemp_Tulameen_E_NurseryTunnel | 2023-12-18 16:23:00+00:00 |\n",
      "\n",
      "\n",
      "Agroscope Berries\n",
      "| Sensor                                   | Last log                  |\n",
      "|------------------------------------------|---------------------------|\n",
      "| PAR01_EXT                                | 2023-12-18 16:23:00+00:00 |\n",
      "| PAR02_EXT                                | 2023-12-18 16:23:00+00:00 |\n",
      "| PAR01_Insolagrin01_T60_Portrait_EW       | 2023-12-18 16:23:00+00:00 |\n",
      "| PAR01_Insolagrin03_T60_Portrait_WW       | 2023-12-18 16:23:00+00:00 |\n",
      "| PAR02_Insolagrin01_T60_Portrait_EW       | 2023-12-18 16:23:00+00:00 |\n",
      "| PAR03_Insolagrin01_T60_Portrait_EW       | 2023-12-18 16:23:00+00:00 |\n",
      "| PAR04_Insolagrin01_T60_Portrait_EW       | 2023-12-18 16:23:00+00:00 |\n",
      "| PAR02_Insolagrin03_T60_Portrait_WW       | 2023-12-18 16:23:00+00:00 |\n",
      "| PAR03_Insolagrin03_T60_Portrait_WW       | 2023-12-18 16:23:00+00:00 |\n",
      "| PAR04_Insolagrin03_T60_Portrait_WW       | 2023-12-18 16:23:00+00:00 |\n",
      "| PAR01_Insolagrin02_T40_Portrait_EW       | 2023-12-18 16:24:00+00:00 |\n",
      "| PAR02_Insolagrin02_T40_Portrait_EW       | 2023-12-18 16:24:00+00:00 |\n",
      "| PAR03_Insolagrin02_T40_Portrait_EW       | 2023-12-18 16:24:00+00:00 |\n",
      "| PAR01_Insolagrin04_T40_Portrait_WW       | 2023-12-18 16:24:00+00:00 |\n",
      "| PAR02_Insolagrin04_T40_Portrait_WW       | 2023-12-18 16:24:00+00:00 |\n",
      "| PAR03_Insolagrin04_T40_Portrait_WW       | 2023-12-18 16:24:00+00:00 |\n",
      "| PAR01_Insolagrin05_T60_Landscape_EW      | 2023-12-18 16:24:00+00:00 |\n",
      "| PAR02_Insolagrin05_T60_Landscape_EW      | 2023-12-18 16:24:00+00:00 |\n",
      "| PAR03_Insolagrin05_T60_Landscape_EW      | 2023-12-18 16:24:00+00:00 |\n",
      "| PAR04_Insolagrin02_T40_Portrait_EW       | 2023-12-18 16:24:00+00:00 |\n",
      "| PAR04_Insolagrin04_T40_Portrait_WW       | 2023-12-18 16:24:00+00:00 |\n",
      "| PAR04_Insolagrin05_T60_Landscape_EW      | 2023-12-18 16:24:00+00:00 |\n",
      "| PAR01_Insolagrin06_T40_Landscape_EW      | 2023-12-18 16:24:00+00:00 |\n",
      "| PAR02_Insolagrin06_T40_Landscape_EW      | 2023-12-18 16:24:00+00:00 |\n",
      "| PAR03_Insolagrin06_T40_Landscape_EW      | 2023-12-18 16:24:00+00:00 |\n",
      "| PAR04_Insolagrin06_T40_Landscape_EW      | 2023-12-18 16:24:00+00:00 |\n",
      "| TRH_top_Insolagrin01_T60_Portrait_EW     | 2023-12-18 16:23:00+00:00 |\n",
      "| TRH_bottom_Insolagrin01_T60_Portrait_EW  | 2023-12-18 16:23:00+00:00 |\n",
      "| TRH_top_Insolagrin03_T60_Portrait_WW     | 2023-12-18 16:23:00+00:00 |\n",
      "| TRH_top_EXT                              | 2023-12-18 16:23:00+00:00 |\n",
      "| SOIL_UP_Insolagrin02                     | 2023-12-18 16:23:00+00:00 |\n",
      "| SOIL_DOWN_Insolagrin02                   | 2023-12-18 16:23:00+00:00 |\n",
      "| TRH_bottom_Insolagrin02_T40_Portrait_EW  | 2023-12-18 16:23:00+00:00 |\n",
      "| TRH_top_Insolagrin04_T40_Portrait_WW     | 2023-12-18 16:23:00+00:00 |\n",
      "| TRH_bottom_Insolagrin04_T40_Portrait_WW  | 2023-12-18 16:23:00+00:00 |\n",
      "| TRH_bottom_EXT                           | 2023-12-18 16:23:00+00:00 |\n",
      "| TRH_bottom_Insolagrin05_T60_Landscape_EW | 2023-12-18 16:23:00+00:00 |\n",
      "| TRH_top_Insolagrin05_T60_Landscape_EW    | 2023-12-18 16:23:00+00:00 |\n",
      "| TRH_bottom_Insolagrin06_T40_Landscape_EW | 2023-12-18 16:23:00+00:00 |\n",
      "| TRH_top_Insolagrin06_T40_Landscape_EW    | 2023-12-18 16:24:00+00:00 |\n",
      "| TRH_top_Insolagrin02_T40_Portrait_EW     | 2023-12-18 16:23:00+00:00 |\n",
      "| TRH_bottom_Insolagrin03_T60_Portrait_WW  | 2023-12-18 16:23:00+00:00 |\n",
      "| RAIN_EXT                                 | 2023-12-18 16:23:00+00:00 |\n",
      "| WIND01_EXT                               | 2023-12-18 16:23:00+00:00 |\n",
      "| WIND02_EXT                               | 2023-12-18 16:22:00+00:00 |\n",
      "| LeafTemp_Z2_int_int                      | 2023-12-18 16:23:00+00:00 |\n",
      "| LeafTemp_Z2_side_int                     | 2023-12-18 16:23:00+00:00 |\n",
      "| LeafTemp_Z2_side_ext                     | 2023-12-18 16:23:00+00:00 |\n",
      "| LeafTemp_Z4_int_int                      | 2023-12-18 16:23:00+00:00 |\n",
      "\n",
      "\n",
      "Bioschmid\n",
      "| Sensor           | Last log                  |\n",
      "|------------------|---------------------------|\n",
      "| PAR01_EXT        | 2023-12-18 16:24:00+00:00 |\n",
      "| PAR01_kontroll   | 2023-12-18 16:24:00+00:00 |\n",
      "| PAR02_kontroll   | 2023-12-18 16:24:00+00:00 |\n",
      "| PAR03_kontroll   | 2023-12-18 16:24:00+00:00 |\n",
      "| PAR01_INSOLAGRIN | 2023-12-18 16:24:00+00:00 |\n",
      "| PAR02_INSOLAGRIN | 2023-12-18 16:24:00+00:00 |\n",
      "| PAR02_EXT        | 2023-12-18 16:24:00+00:00 |\n",
      "| PAR01_agriverti  | 2023-12-18 16:24:00+00:00 |\n",
      "| PAR02_agriverti  | 2023-12-18 16:24:00+00:00 |\n",
      "| PAR03_agriverti  | 2023-12-18 16:24:00+00:00 |\n",
      "| PAR03_INSOLAGRIN | 2023-12-18 16:24:00+00:00 |\n",
      "| PAR04_INSOLAGRIN | 2023-12-18 16:24:00+00:00 |\n",
      "| GHI_01_EXT       | 2023-12-18 16:24:00+00:00 |\n",
      "| TRH01_EXT        | 2023-12-18 16:23:00+00:00 |\n",
      "| TRH02_EXT        | 2023-12-18 16:24:00+00:00 |\n",
      "| TRH01_kontroll   | 2023-12-18 16:24:00+00:00 |\n",
      "| TRH02_kontroll   | 2023-12-18 16:23:00+00:00 |\n",
      "| TRH03_EXT        | 2023-12-18 16:24:00+00:00 |\n",
      "| TRH04_EXT        | 2023-12-18 16:24:00+00:00 |\n",
      "| TRH01_INSOLAGRIN | 2023-12-18 16:24:00+00:00 |\n",
      "| TRH02_INSOLAGRIN | 2023-12-18 16:24:00+00:00 |\n",
      "| TRH01_agriverti  | 2023-12-18 16:24:00+00:00 |\n",
      "| TRH02_agriverti  | 2023-12-18 16:24:00+00:00 |\n",
      "| RAIN01_EXT       | 2023-12-18 16:24:00+00:00 |\n",
      "| WIND01_EXT       | 2023-12-18 16:24:00+00:00 |\n",
      "| WIND02_EXT       | 2023-12-18 16:14:00+00:00 |\n",
      "\n",
      "\n"
     ]
    }
   ],
   "source": [
    "for i in last_log:\n",
    "    print(i)\n",
    "    print(tabulate(last_log[i].items(), headers=[\"Sensor\", \"Last log\"], tablefmt=\"github\"))\n",
    "    print(\"\\n\")"
   ]
  },
  {
   "cell_type": "code",
   "execution_count": 31,
   "metadata": {},
   "outputs": [
    {
     "data": {
      "application/vnd.plotly.v1+json": {
       "config": {
        "plotlyServerURL": "https://plot.ly"
       },
       "data": [
        {
         "type": "bar",
         "x": [
          "PAR01_Insolagrin"
         ],
         "y": [
          62.78731
         ]
        },
        {
         "type": "bar",
         "x": [
          "PAR02_Insolagrin"
         ],
         "y": [
          62.782055
         ]
        },
        {
         "type": "bar",
         "x": [
          "PAR03_Insolagrin"
         ],
         "y": [
          62.782055
         ]
        },
        {
         "type": "bar",
         "x": [
          "PAR04_Insolagrin"
         ],
         "y": [
          62.776801
         ]
        },
        {
         "type": "bar",
         "x": [
          "PAR01_EXT"
         ],
         "y": [
          62.776801
         ]
        },
        {
         "type": "bar",
         "x": [
          "PAR02_EXT"
         ],
         "y": [
          62.776801
         ]
        },
        {
         "type": "bar",
         "x": [
          "PAR01_control"
         ],
         "y": [
          62.755793
         ]
        },
        {
         "type": "bar",
         "x": [
          "PAR02_control"
         ],
         "y": [
          62.750543
         ]
        },
        {
         "type": "bar",
         "x": [
          "GHI_01_EXT"
         ],
         "y": [
          62.755793
         ]
        },
        {
         "type": "bar",
         "x": [
          "TRH_top_Insolagrin"
         ],
         "y": [
          79.10155
         ]
        },
        {
         "type": "bar",
         "x": [
          "TRH_bottom_Insolagrin"
         ],
         "y": [
          79.078545
         ]
        },
        {
         "type": "bar",
         "x": [
          "TRH_top_EXT"
         ],
         "y": [
          62.776801
         ]
        },
        {
         "type": "bar",
         "x": [
          "TRH_bottom_EXT"
         ],
         "y": [
          63.499534
         ]
        },
        {
         "type": "bar",
         "x": [
          "TRH_top_control"
         ],
         "y": [
          62.755793
         ]
        },
        {
         "type": "bar",
         "x": [
          "TRH_bottom_control"
         ],
         "y": [
          63.580267
         ]
        },
        {
         "type": "bar",
         "x": [
          "RAIN_EXT"
         ],
         "y": [
          31.38446
         ]
        },
        {
         "type": "bar",
         "x": [
          "WIND01_EXT"
         ],
         "y": [
          62.755793
         ]
        },
        {
         "type": "bar",
         "x": [
          "WIND02_EXT"
         ],
         "y": [
          62.755793
         ]
        }
       ],
       "layout": {
        "template": {
         "data": {
          "bar": [
           {
            "error_x": {
             "color": "#2a3f5f"
            },
            "error_y": {
             "color": "#2a3f5f"
            },
            "marker": {
             "line": {
              "color": "#E5ECF6",
              "width": 0.5
             },
             "pattern": {
              "fillmode": "overlay",
              "size": 10,
              "solidity": 0.2
             }
            },
            "type": "bar"
           }
          ],
          "barpolar": [
           {
            "marker": {
             "line": {
              "color": "#E5ECF6",
              "width": 0.5
             },
             "pattern": {
              "fillmode": "overlay",
              "size": 10,
              "solidity": 0.2
             }
            },
            "type": "barpolar"
           }
          ],
          "carpet": [
           {
            "aaxis": {
             "endlinecolor": "#2a3f5f",
             "gridcolor": "white",
             "linecolor": "white",
             "minorgridcolor": "white",
             "startlinecolor": "#2a3f5f"
            },
            "baxis": {
             "endlinecolor": "#2a3f5f",
             "gridcolor": "white",
             "linecolor": "white",
             "minorgridcolor": "white",
             "startlinecolor": "#2a3f5f"
            },
            "type": "carpet"
           }
          ],
          "choropleth": [
           {
            "colorbar": {
             "outlinewidth": 0,
             "ticks": ""
            },
            "type": "choropleth"
           }
          ],
          "contour": [
           {
            "colorbar": {
             "outlinewidth": 0,
             "ticks": ""
            },
            "colorscale": [
             [
              0,
              "#0d0887"
             ],
             [
              0.1111111111111111,
              "#46039f"
             ],
             [
              0.2222222222222222,
              "#7201a8"
             ],
             [
              0.3333333333333333,
              "#9c179e"
             ],
             [
              0.4444444444444444,
              "#bd3786"
             ],
             [
              0.5555555555555556,
              "#d8576b"
             ],
             [
              0.6666666666666666,
              "#ed7953"
             ],
             [
              0.7777777777777778,
              "#fb9f3a"
             ],
             [
              0.8888888888888888,
              "#fdca26"
             ],
             [
              1,
              "#f0f921"
             ]
            ],
            "type": "contour"
           }
          ],
          "contourcarpet": [
           {
            "colorbar": {
             "outlinewidth": 0,
             "ticks": ""
            },
            "type": "contourcarpet"
           }
          ],
          "heatmap": [
           {
            "colorbar": {
             "outlinewidth": 0,
             "ticks": ""
            },
            "colorscale": [
             [
              0,
              "#0d0887"
             ],
             [
              0.1111111111111111,
              "#46039f"
             ],
             [
              0.2222222222222222,
              "#7201a8"
             ],
             [
              0.3333333333333333,
              "#9c179e"
             ],
             [
              0.4444444444444444,
              "#bd3786"
             ],
             [
              0.5555555555555556,
              "#d8576b"
             ],
             [
              0.6666666666666666,
              "#ed7953"
             ],
             [
              0.7777777777777778,
              "#fb9f3a"
             ],
             [
              0.8888888888888888,
              "#fdca26"
             ],
             [
              1,
              "#f0f921"
             ]
            ],
            "type": "heatmap"
           }
          ],
          "heatmapgl": [
           {
            "colorbar": {
             "outlinewidth": 0,
             "ticks": ""
            },
            "colorscale": [
             [
              0,
              "#0d0887"
             ],
             [
              0.1111111111111111,
              "#46039f"
             ],
             [
              0.2222222222222222,
              "#7201a8"
             ],
             [
              0.3333333333333333,
              "#9c179e"
             ],
             [
              0.4444444444444444,
              "#bd3786"
             ],
             [
              0.5555555555555556,
              "#d8576b"
             ],
             [
              0.6666666666666666,
              "#ed7953"
             ],
             [
              0.7777777777777778,
              "#fb9f3a"
             ],
             [
              0.8888888888888888,
              "#fdca26"
             ],
             [
              1,
              "#f0f921"
             ]
            ],
            "type": "heatmapgl"
           }
          ],
          "histogram": [
           {
            "marker": {
             "pattern": {
              "fillmode": "overlay",
              "size": 10,
              "solidity": 0.2
             }
            },
            "type": "histogram"
           }
          ],
          "histogram2d": [
           {
            "colorbar": {
             "outlinewidth": 0,
             "ticks": ""
            },
            "colorscale": [
             [
              0,
              "#0d0887"
             ],
             [
              0.1111111111111111,
              "#46039f"
             ],
             [
              0.2222222222222222,
              "#7201a8"
             ],
             [
              0.3333333333333333,
              "#9c179e"
             ],
             [
              0.4444444444444444,
              "#bd3786"
             ],
             [
              0.5555555555555556,
              "#d8576b"
             ],
             [
              0.6666666666666666,
              "#ed7953"
             ],
             [
              0.7777777777777778,
              "#fb9f3a"
             ],
             [
              0.8888888888888888,
              "#fdca26"
             ],
             [
              1,
              "#f0f921"
             ]
            ],
            "type": "histogram2d"
           }
          ],
          "histogram2dcontour": [
           {
            "colorbar": {
             "outlinewidth": 0,
             "ticks": ""
            },
            "colorscale": [
             [
              0,
              "#0d0887"
             ],
             [
              0.1111111111111111,
              "#46039f"
             ],
             [
              0.2222222222222222,
              "#7201a8"
             ],
             [
              0.3333333333333333,
              "#9c179e"
             ],
             [
              0.4444444444444444,
              "#bd3786"
             ],
             [
              0.5555555555555556,
              "#d8576b"
             ],
             [
              0.6666666666666666,
              "#ed7953"
             ],
             [
              0.7777777777777778,
              "#fb9f3a"
             ],
             [
              0.8888888888888888,
              "#fdca26"
             ],
             [
              1,
              "#f0f921"
             ]
            ],
            "type": "histogram2dcontour"
           }
          ],
          "mesh3d": [
           {
            "colorbar": {
             "outlinewidth": 0,
             "ticks": ""
            },
            "type": "mesh3d"
           }
          ],
          "parcoords": [
           {
            "line": {
             "colorbar": {
              "outlinewidth": 0,
              "ticks": ""
             }
            },
            "type": "parcoords"
           }
          ],
          "pie": [
           {
            "automargin": true,
            "type": "pie"
           }
          ],
          "scatter": [
           {
            "fillpattern": {
             "fillmode": "overlay",
             "size": 10,
             "solidity": 0.2
            },
            "type": "scatter"
           }
          ],
          "scatter3d": [
           {
            "line": {
             "colorbar": {
              "outlinewidth": 0,
              "ticks": ""
             }
            },
            "marker": {
             "colorbar": {
              "outlinewidth": 0,
              "ticks": ""
             }
            },
            "type": "scatter3d"
           }
          ],
          "scattercarpet": [
           {
            "marker": {
             "colorbar": {
              "outlinewidth": 0,
              "ticks": ""
             }
            },
            "type": "scattercarpet"
           }
          ],
          "scattergeo": [
           {
            "marker": {
             "colorbar": {
              "outlinewidth": 0,
              "ticks": ""
             }
            },
            "type": "scattergeo"
           }
          ],
          "scattergl": [
           {
            "marker": {
             "colorbar": {
              "outlinewidth": 0,
              "ticks": ""
             }
            },
            "type": "scattergl"
           }
          ],
          "scattermapbox": [
           {
            "marker": {
             "colorbar": {
              "outlinewidth": 0,
              "ticks": ""
             }
            },
            "type": "scattermapbox"
           }
          ],
          "scatterpolar": [
           {
            "marker": {
             "colorbar": {
              "outlinewidth": 0,
              "ticks": ""
             }
            },
            "type": "scatterpolar"
           }
          ],
          "scatterpolargl": [
           {
            "marker": {
             "colorbar": {
              "outlinewidth": 0,
              "ticks": ""
             }
            },
            "type": "scatterpolargl"
           }
          ],
          "scatterternary": [
           {
            "marker": {
             "colorbar": {
              "outlinewidth": 0,
              "ticks": ""
             }
            },
            "type": "scatterternary"
           }
          ],
          "surface": [
           {
            "colorbar": {
             "outlinewidth": 0,
             "ticks": ""
            },
            "colorscale": [
             [
              0,
              "#0d0887"
             ],
             [
              0.1111111111111111,
              "#46039f"
             ],
             [
              0.2222222222222222,
              "#7201a8"
             ],
             [
              0.3333333333333333,
              "#9c179e"
             ],
             [
              0.4444444444444444,
              "#bd3786"
             ],
             [
              0.5555555555555556,
              "#d8576b"
             ],
             [
              0.6666666666666666,
              "#ed7953"
             ],
             [
              0.7777777777777778,
              "#fb9f3a"
             ],
             [
              0.8888888888888888,
              "#fdca26"
             ],
             [
              1,
              "#f0f921"
             ]
            ],
            "type": "surface"
           }
          ],
          "table": [
           {
            "cells": {
             "fill": {
              "color": "#EBF0F8"
             },
             "line": {
              "color": "white"
             }
            },
            "header": {
             "fill": {
              "color": "#C8D4E3"
             },
             "line": {
              "color": "white"
             }
            },
            "type": "table"
           }
          ]
         },
         "layout": {
          "annotationdefaults": {
           "arrowcolor": "#2a3f5f",
           "arrowhead": 0,
           "arrowwidth": 1
          },
          "autotypenumbers": "strict",
          "coloraxis": {
           "colorbar": {
            "outlinewidth": 0,
            "ticks": ""
           }
          },
          "colorscale": {
           "diverging": [
            [
             0,
             "#8e0152"
            ],
            [
             0.1,
             "#c51b7d"
            ],
            [
             0.2,
             "#de77ae"
            ],
            [
             0.3,
             "#f1b6da"
            ],
            [
             0.4,
             "#fde0ef"
            ],
            [
             0.5,
             "#f7f7f7"
            ],
            [
             0.6,
             "#e6f5d0"
            ],
            [
             0.7,
             "#b8e186"
            ],
            [
             0.8,
             "#7fbc41"
            ],
            [
             0.9,
             "#4d9221"
            ],
            [
             1,
             "#276419"
            ]
           ],
           "sequential": [
            [
             0,
             "#0d0887"
            ],
            [
             0.1111111111111111,
             "#46039f"
            ],
            [
             0.2222222222222222,
             "#7201a8"
            ],
            [
             0.3333333333333333,
             "#9c179e"
            ],
            [
             0.4444444444444444,
             "#bd3786"
            ],
            [
             0.5555555555555556,
             "#d8576b"
            ],
            [
             0.6666666666666666,
             "#ed7953"
            ],
            [
             0.7777777777777778,
             "#fb9f3a"
            ],
            [
             0.8888888888888888,
             "#fdca26"
            ],
            [
             1,
             "#f0f921"
            ]
           ],
           "sequentialminus": [
            [
             0,
             "#0d0887"
            ],
            [
             0.1111111111111111,
             "#46039f"
            ],
            [
             0.2222222222222222,
             "#7201a8"
            ],
            [
             0.3333333333333333,
             "#9c179e"
            ],
            [
             0.4444444444444444,
             "#bd3786"
            ],
            [
             0.5555555555555556,
             "#d8576b"
            ],
            [
             0.6666666666666666,
             "#ed7953"
            ],
            [
             0.7777777777777778,
             "#fb9f3a"
            ],
            [
             0.8888888888888888,
             "#fdca26"
            ],
            [
             1,
             "#f0f921"
            ]
           ]
          },
          "colorway": [
           "#636efa",
           "#EF553B",
           "#00cc96",
           "#ab63fa",
           "#FFA15A",
           "#19d3f3",
           "#FF6692",
           "#B6E880",
           "#FF97FF",
           "#FECB52"
          ],
          "font": {
           "color": "#2a3f5f"
          },
          "geo": {
           "bgcolor": "white",
           "lakecolor": "white",
           "landcolor": "#E5ECF6",
           "showlakes": true,
           "showland": true,
           "subunitcolor": "white"
          },
          "hoverlabel": {
           "align": "left"
          },
          "hovermode": "closest",
          "mapbox": {
           "style": "light"
          },
          "paper_bgcolor": "white",
          "plot_bgcolor": "#E5ECF6",
          "polar": {
           "angularaxis": {
            "gridcolor": "white",
            "linecolor": "white",
            "ticks": ""
           },
           "bgcolor": "#E5ECF6",
           "radialaxis": {
            "gridcolor": "white",
            "linecolor": "white",
            "ticks": ""
           }
          },
          "scene": {
           "xaxis": {
            "backgroundcolor": "#E5ECF6",
            "gridcolor": "white",
            "gridwidth": 2,
            "linecolor": "white",
            "showbackground": true,
            "ticks": "",
            "zerolinecolor": "white"
           },
           "yaxis": {
            "backgroundcolor": "#E5ECF6",
            "gridcolor": "white",
            "gridwidth": 2,
            "linecolor": "white",
            "showbackground": true,
            "ticks": "",
            "zerolinecolor": "white"
           },
           "zaxis": {
            "backgroundcolor": "#E5ECF6",
            "gridcolor": "white",
            "gridwidth": 2,
            "linecolor": "white",
            "showbackground": true,
            "ticks": "",
            "zerolinecolor": "white"
           }
          },
          "shapedefaults": {
           "line": {
            "color": "#2a3f5f"
           }
          },
          "ternary": {
           "aaxis": {
            "gridcolor": "white",
            "linecolor": "white",
            "ticks": ""
           },
           "baxis": {
            "gridcolor": "white",
            "linecolor": "white",
            "ticks": ""
           },
           "bgcolor": "#E5ECF6",
           "caxis": {
            "gridcolor": "white",
            "linecolor": "white",
            "ticks": ""
           }
          },
          "title": {
           "x": 0.05
          },
          "xaxis": {
           "automargin": true,
           "gridcolor": "white",
           "linecolor": "white",
           "ticks": "",
           "title": {
            "standoff": 15
           },
           "zerolinecolor": "white",
           "zerolinewidth": 2
          },
          "yaxis": {
           "automargin": true,
           "gridcolor": "white",
           "linecolor": "white",
           "ticks": "",
           "title": {
            "standoff": 15
           },
           "zerolinecolor": "white",
           "zerolinewidth": 2
          }
         }
        },
        "title": {
         "text": "Average time difference between two logs in seconds"
        }
       }
      }
     },
     "metadata": {},
     "output_type": "display_data"
    },
    {
     "data": {
      "application/vnd.plotly.v1+json": {
       "config": {
        "plotlyServerURL": "https://plot.ly"
       },
       "data": [
        {
         "type": "bar",
         "x": [
          "PAR1"
         ],
         "y": [
          60.004799
         ]
        },
        {
         "type": "bar",
         "x": [
          "PAR2"
         ],
         "y": [
          60
         ]
        },
        {
         "type": "bar",
         "x": [
          "PAR3"
         ],
         "y": [
          60.004799
         ]
        },
        {
         "type": "bar",
         "x": [
          "PAR4"
         ],
         "y": [
          60.004799
         ]
        },
        {
         "type": "bar",
         "x": [
          "PAR5"
         ],
         "y": [
          60.004799
         ]
        },
        {
         "type": "bar",
         "x": [
          "PAR6"
         ],
         "y": [
          60.004799
         ]
        },
        {
         "type": "bar",
         "x": [
          "PAR7"
         ],
         "y": [
          60.004799
         ]
        },
        {
         "type": "bar",
         "x": [
          "PAR8"
         ],
         "y": [
          60.004799
         ]
        },
        {
         "type": "bar",
         "x": [
          "PAR_ext_bis"
         ],
         "y": [
          60.004799
         ]
        },
        {
         "type": "bar",
         "x": [
          "PAR_STRAWB"
         ],
         "y": [
          60
         ]
        },
        {
         "type": "bar",
         "x": [
          "PAR_umbrella_strawb"
         ],
         "y": [
          60
         ]
        },
        {
         "type": "bar",
         "x": [
          "PAR_umbrella"
         ],
         "y": [
          60.004799
         ]
        },
        {
         "type": "bar",
         "x": [
          "PAR01_TX_tunnel"
         ],
         "y": [
          60
         ]
        },
        {
         "type": "bar",
         "x": [
          "PAR_EXT_04"
         ],
         "y": [
          60.04322
         ]
        },
        {
         "type": "bar",
         "x": [
          "PAR_EXT_05"
         ],
         "y": [
          60.0144
         ]
        },
        {
         "type": "bar",
         "x": [
          "PAR01_GT_tunnel"
         ],
         "y": [
          60
         ]
        },
        {
         "type": "bar",
         "x": [
          "PAR01_GT1_tunnel"
         ],
         "y": [
          60.004799
         ]
        },
        {
         "type": "bar",
         "x": [
          "PAR01_Nursery"
         ],
         "y": [
          60.004799
         ]
        },
        {
         "type": "bar",
         "x": [
          "PAR_EXT_06"
         ],
         "y": [
          60.024003
         ]
        },
        {
         "type": "bar",
         "x": [
          "weather_station"
         ],
         "y": [
          60
         ]
        },
        {
         "type": "bar",
         "x": [
          "GHI_EXT_02"
         ],
         "y": [
          60.038415
         ]
        },
        {
         "type": "bar",
         "x": [
          "GHI_EXT_03"
         ],
         "y": [
          60.009599
         ]
        },
        {
         "type": "bar",
         "x": [
          "GHI_EXT_04"
         ],
         "y": [
          60.028806
         ]
        },
        {
         "type": "bar",
         "x": [
          "GHI_EXT"
         ],
         "y": [
          60
         ]
        },
        {
         "type": "bar",
         "x": [
          "T_RH_umbrella_top"
         ],
         "y": [
          60
         ]
        },
        {
         "type": "bar",
         "x": [
          "T_RH_umbrella_bottom"
         ],
         "y": [
          60.076879
         ]
        },
        {
         "type": "bar",
         "x": [
          "TRH01_TX_tunnel"
         ],
         "y": [
          60.115393
         ]
        },
        {
         "type": "bar",
         "x": [
          "TRH01_GT_tunnel"
         ],
         "y": [
          60.718737
         ]
        },
        {
         "type": "bar",
         "x": [
          "TRH02_GT_tunnel"
         ],
         "y": [
          60.669632
         ]
        },
        {
         "type": "bar",
         "x": [
          "TRH02_GT1_tunnel"
         ],
         "y": [
          60.782756
         ]
        },
        {
         "type": "bar",
         "x": [
          "TRH_top_Nursery"
         ],
         "y": [
          60.797471
         ]
        },
        {
         "type": "bar",
         "x": [
          "TRH_bottom_Nursery"
         ],
         "y": [
          60.654915
         ]
        },
        {
         "type": "bar",
         "x": [
          "TRH_EXT_top"
         ],
         "y": [
          60
         ]
        },
        {
         "type": "bar",
         "x": [
          "T_RH1"
         ],
         "y": [
          60.178084
         ]
        },
        {
         "type": "bar",
         "x": [
          "T_RH2"
         ],
         "y": [
          60.115393
         ]
        },
        {
         "type": "bar",
         "x": [
          "T_RH_ext_bottom"
         ],
         "y": [
          60.048026
         ]
        },
        {
         "type": "bar",
         "x": [
          "TRH01_GT1_tunnel"
         ],
         "y": [
          60.708967
         ]
        },
        {
         "type": "bar",
         "x": [
          "wind_speed"
         ],
         "y": [
          60
         ]
        },
        {
         "type": "bar",
         "x": [
          "wind_speed_ultrasonic"
         ],
         "y": [
          60
         ]
        },
        {
         "type": "bar",
         "x": [
          "leaf_temp_umbrella1"
         ],
         "y": [
          11.999232
         ]
        },
        {
         "type": "bar",
         "x": [
          "LeafTemp01_Flair_Insolagrin05_TX"
         ],
         "y": [
          11.999232
         ]
        },
        {
         "type": "bar",
         "x": [
          "LeafTemp02_Flair_Insolagrin05_TX"
         ],
         "y": [
          11.999232
         ]
        },
        {
         "type": "bar",
         "x": [
          "LeafTemp01_Joly_Insolagrin05_TX"
         ],
         "y": [
          11.999232
         ]
        },
        {
         "type": "bar",
         "x": [
          "LeafTemp02_Joly_Insolagrin05_TX"
         ],
         "y": [
          11.999232
         ]
        },
        {
         "type": "bar",
         "x": [
          "LeafTemp_Vajolet_W_Nursery"
         ],
         "y": [
          12.000191
         ]
        },
        {
         "type": "bar",
         "x": [
          "LeafTemp_Vajolet_E_Nursery"
         ],
         "y": [
          11.999232
         ]
        },
        {
         "type": "bar",
         "x": [
          "LeafTemp_Tulameen_W_Nursery"
         ],
         "y": [
          11.999232
         ]
        },
        {
         "type": "bar",
         "x": [
          "LeafTemp_Tulameen_E_Nursery"
         ],
         "y": [
          11.999232
         ]
        },
        {
         "type": "bar",
         "x": [
          "LeafTemp_Vajolet_W_NurseryTunnel"
         ],
         "y": [
          11.999232
         ]
        },
        {
         "type": "bar",
         "x": [
          "leaf_temp_insolagrin_1"
         ],
         "y": [
          11.999232
         ]
        },
        {
         "type": "bar",
         "x": [
          "LeafTemp_Vajolet_E_NurseryTunnel"
         ],
         "y": [
          11.999232
         ]
        },
        {
         "type": "bar",
         "x": [
          "LeafTemp_Tulameen_W_NurseryTunnel"
         ],
         "y": [
          11.999232
         ]
        },
        {
         "type": "bar",
         "x": [
          "LeafTemp_Tulameen_E_NurseryTunnel"
         ],
         "y": [
          11.999232
         ]
        }
       ],
       "layout": {
        "template": {
         "data": {
          "bar": [
           {
            "error_x": {
             "color": "#2a3f5f"
            },
            "error_y": {
             "color": "#2a3f5f"
            },
            "marker": {
             "line": {
              "color": "#E5ECF6",
              "width": 0.5
             },
             "pattern": {
              "fillmode": "overlay",
              "size": 10,
              "solidity": 0.2
             }
            },
            "type": "bar"
           }
          ],
          "barpolar": [
           {
            "marker": {
             "line": {
              "color": "#E5ECF6",
              "width": 0.5
             },
             "pattern": {
              "fillmode": "overlay",
              "size": 10,
              "solidity": 0.2
             }
            },
            "type": "barpolar"
           }
          ],
          "carpet": [
           {
            "aaxis": {
             "endlinecolor": "#2a3f5f",
             "gridcolor": "white",
             "linecolor": "white",
             "minorgridcolor": "white",
             "startlinecolor": "#2a3f5f"
            },
            "baxis": {
             "endlinecolor": "#2a3f5f",
             "gridcolor": "white",
             "linecolor": "white",
             "minorgridcolor": "white",
             "startlinecolor": "#2a3f5f"
            },
            "type": "carpet"
           }
          ],
          "choropleth": [
           {
            "colorbar": {
             "outlinewidth": 0,
             "ticks": ""
            },
            "type": "choropleth"
           }
          ],
          "contour": [
           {
            "colorbar": {
             "outlinewidth": 0,
             "ticks": ""
            },
            "colorscale": [
             [
              0,
              "#0d0887"
             ],
             [
              0.1111111111111111,
              "#46039f"
             ],
             [
              0.2222222222222222,
              "#7201a8"
             ],
             [
              0.3333333333333333,
              "#9c179e"
             ],
             [
              0.4444444444444444,
              "#bd3786"
             ],
             [
              0.5555555555555556,
              "#d8576b"
             ],
             [
              0.6666666666666666,
              "#ed7953"
             ],
             [
              0.7777777777777778,
              "#fb9f3a"
             ],
             [
              0.8888888888888888,
              "#fdca26"
             ],
             [
              1,
              "#f0f921"
             ]
            ],
            "type": "contour"
           }
          ],
          "contourcarpet": [
           {
            "colorbar": {
             "outlinewidth": 0,
             "ticks": ""
            },
            "type": "contourcarpet"
           }
          ],
          "heatmap": [
           {
            "colorbar": {
             "outlinewidth": 0,
             "ticks": ""
            },
            "colorscale": [
             [
              0,
              "#0d0887"
             ],
             [
              0.1111111111111111,
              "#46039f"
             ],
             [
              0.2222222222222222,
              "#7201a8"
             ],
             [
              0.3333333333333333,
              "#9c179e"
             ],
             [
              0.4444444444444444,
              "#bd3786"
             ],
             [
              0.5555555555555556,
              "#d8576b"
             ],
             [
              0.6666666666666666,
              "#ed7953"
             ],
             [
              0.7777777777777778,
              "#fb9f3a"
             ],
             [
              0.8888888888888888,
              "#fdca26"
             ],
             [
              1,
              "#f0f921"
             ]
            ],
            "type": "heatmap"
           }
          ],
          "heatmapgl": [
           {
            "colorbar": {
             "outlinewidth": 0,
             "ticks": ""
            },
            "colorscale": [
             [
              0,
              "#0d0887"
             ],
             [
              0.1111111111111111,
              "#46039f"
             ],
             [
              0.2222222222222222,
              "#7201a8"
             ],
             [
              0.3333333333333333,
              "#9c179e"
             ],
             [
              0.4444444444444444,
              "#bd3786"
             ],
             [
              0.5555555555555556,
              "#d8576b"
             ],
             [
              0.6666666666666666,
              "#ed7953"
             ],
             [
              0.7777777777777778,
              "#fb9f3a"
             ],
             [
              0.8888888888888888,
              "#fdca26"
             ],
             [
              1,
              "#f0f921"
             ]
            ],
            "type": "heatmapgl"
           }
          ],
          "histogram": [
           {
            "marker": {
             "pattern": {
              "fillmode": "overlay",
              "size": 10,
              "solidity": 0.2
             }
            },
            "type": "histogram"
           }
          ],
          "histogram2d": [
           {
            "colorbar": {
             "outlinewidth": 0,
             "ticks": ""
            },
            "colorscale": [
             [
              0,
              "#0d0887"
             ],
             [
              0.1111111111111111,
              "#46039f"
             ],
             [
              0.2222222222222222,
              "#7201a8"
             ],
             [
              0.3333333333333333,
              "#9c179e"
             ],
             [
              0.4444444444444444,
              "#bd3786"
             ],
             [
              0.5555555555555556,
              "#d8576b"
             ],
             [
              0.6666666666666666,
              "#ed7953"
             ],
             [
              0.7777777777777778,
              "#fb9f3a"
             ],
             [
              0.8888888888888888,
              "#fdca26"
             ],
             [
              1,
              "#f0f921"
             ]
            ],
            "type": "histogram2d"
           }
          ],
          "histogram2dcontour": [
           {
            "colorbar": {
             "outlinewidth": 0,
             "ticks": ""
            },
            "colorscale": [
             [
              0,
              "#0d0887"
             ],
             [
              0.1111111111111111,
              "#46039f"
             ],
             [
              0.2222222222222222,
              "#7201a8"
             ],
             [
              0.3333333333333333,
              "#9c179e"
             ],
             [
              0.4444444444444444,
              "#bd3786"
             ],
             [
              0.5555555555555556,
              "#d8576b"
             ],
             [
              0.6666666666666666,
              "#ed7953"
             ],
             [
              0.7777777777777778,
              "#fb9f3a"
             ],
             [
              0.8888888888888888,
              "#fdca26"
             ],
             [
              1,
              "#f0f921"
             ]
            ],
            "type": "histogram2dcontour"
           }
          ],
          "mesh3d": [
           {
            "colorbar": {
             "outlinewidth": 0,
             "ticks": ""
            },
            "type": "mesh3d"
           }
          ],
          "parcoords": [
           {
            "line": {
             "colorbar": {
              "outlinewidth": 0,
              "ticks": ""
             }
            },
            "type": "parcoords"
           }
          ],
          "pie": [
           {
            "automargin": true,
            "type": "pie"
           }
          ],
          "scatter": [
           {
            "fillpattern": {
             "fillmode": "overlay",
             "size": 10,
             "solidity": 0.2
            },
            "type": "scatter"
           }
          ],
          "scatter3d": [
           {
            "line": {
             "colorbar": {
              "outlinewidth": 0,
              "ticks": ""
             }
            },
            "marker": {
             "colorbar": {
              "outlinewidth": 0,
              "ticks": ""
             }
            },
            "type": "scatter3d"
           }
          ],
          "scattercarpet": [
           {
            "marker": {
             "colorbar": {
              "outlinewidth": 0,
              "ticks": ""
             }
            },
            "type": "scattercarpet"
           }
          ],
          "scattergeo": [
           {
            "marker": {
             "colorbar": {
              "outlinewidth": 0,
              "ticks": ""
             }
            },
            "type": "scattergeo"
           }
          ],
          "scattergl": [
           {
            "marker": {
             "colorbar": {
              "outlinewidth": 0,
              "ticks": ""
             }
            },
            "type": "scattergl"
           }
          ],
          "scattermapbox": [
           {
            "marker": {
             "colorbar": {
              "outlinewidth": 0,
              "ticks": ""
             }
            },
            "type": "scattermapbox"
           }
          ],
          "scatterpolar": [
           {
            "marker": {
             "colorbar": {
              "outlinewidth": 0,
              "ticks": ""
             }
            },
            "type": "scatterpolar"
           }
          ],
          "scatterpolargl": [
           {
            "marker": {
             "colorbar": {
              "outlinewidth": 0,
              "ticks": ""
             }
            },
            "type": "scatterpolargl"
           }
          ],
          "scatterternary": [
           {
            "marker": {
             "colorbar": {
              "outlinewidth": 0,
              "ticks": ""
             }
            },
            "type": "scatterternary"
           }
          ],
          "surface": [
           {
            "colorbar": {
             "outlinewidth": 0,
             "ticks": ""
            },
            "colorscale": [
             [
              0,
              "#0d0887"
             ],
             [
              0.1111111111111111,
              "#46039f"
             ],
             [
              0.2222222222222222,
              "#7201a8"
             ],
             [
              0.3333333333333333,
              "#9c179e"
             ],
             [
              0.4444444444444444,
              "#bd3786"
             ],
             [
              0.5555555555555556,
              "#d8576b"
             ],
             [
              0.6666666666666666,
              "#ed7953"
             ],
             [
              0.7777777777777778,
              "#fb9f3a"
             ],
             [
              0.8888888888888888,
              "#fdca26"
             ],
             [
              1,
              "#f0f921"
             ]
            ],
            "type": "surface"
           }
          ],
          "table": [
           {
            "cells": {
             "fill": {
              "color": "#EBF0F8"
             },
             "line": {
              "color": "white"
             }
            },
            "header": {
             "fill": {
              "color": "#C8D4E3"
             },
             "line": {
              "color": "white"
             }
            },
            "type": "table"
           }
          ]
         },
         "layout": {
          "annotationdefaults": {
           "arrowcolor": "#2a3f5f",
           "arrowhead": 0,
           "arrowwidth": 1
          },
          "autotypenumbers": "strict",
          "coloraxis": {
           "colorbar": {
            "outlinewidth": 0,
            "ticks": ""
           }
          },
          "colorscale": {
           "diverging": [
            [
             0,
             "#8e0152"
            ],
            [
             0.1,
             "#c51b7d"
            ],
            [
             0.2,
             "#de77ae"
            ],
            [
             0.3,
             "#f1b6da"
            ],
            [
             0.4,
             "#fde0ef"
            ],
            [
             0.5,
             "#f7f7f7"
            ],
            [
             0.6,
             "#e6f5d0"
            ],
            [
             0.7,
             "#b8e186"
            ],
            [
             0.8,
             "#7fbc41"
            ],
            [
             0.9,
             "#4d9221"
            ],
            [
             1,
             "#276419"
            ]
           ],
           "sequential": [
            [
             0,
             "#0d0887"
            ],
            [
             0.1111111111111111,
             "#46039f"
            ],
            [
             0.2222222222222222,
             "#7201a8"
            ],
            [
             0.3333333333333333,
             "#9c179e"
            ],
            [
             0.4444444444444444,
             "#bd3786"
            ],
            [
             0.5555555555555556,
             "#d8576b"
            ],
            [
             0.6666666666666666,
             "#ed7953"
            ],
            [
             0.7777777777777778,
             "#fb9f3a"
            ],
            [
             0.8888888888888888,
             "#fdca26"
            ],
            [
             1,
             "#f0f921"
            ]
           ],
           "sequentialminus": [
            [
             0,
             "#0d0887"
            ],
            [
             0.1111111111111111,
             "#46039f"
            ],
            [
             0.2222222222222222,
             "#7201a8"
            ],
            [
             0.3333333333333333,
             "#9c179e"
            ],
            [
             0.4444444444444444,
             "#bd3786"
            ],
            [
             0.5555555555555556,
             "#d8576b"
            ],
            [
             0.6666666666666666,
             "#ed7953"
            ],
            [
             0.7777777777777778,
             "#fb9f3a"
            ],
            [
             0.8888888888888888,
             "#fdca26"
            ],
            [
             1,
             "#f0f921"
            ]
           ]
          },
          "colorway": [
           "#636efa",
           "#EF553B",
           "#00cc96",
           "#ab63fa",
           "#FFA15A",
           "#19d3f3",
           "#FF6692",
           "#B6E880",
           "#FF97FF",
           "#FECB52"
          ],
          "font": {
           "color": "#2a3f5f"
          },
          "geo": {
           "bgcolor": "white",
           "lakecolor": "white",
           "landcolor": "#E5ECF6",
           "showlakes": true,
           "showland": true,
           "subunitcolor": "white"
          },
          "hoverlabel": {
           "align": "left"
          },
          "hovermode": "closest",
          "mapbox": {
           "style": "light"
          },
          "paper_bgcolor": "white",
          "plot_bgcolor": "#E5ECF6",
          "polar": {
           "angularaxis": {
            "gridcolor": "white",
            "linecolor": "white",
            "ticks": ""
           },
           "bgcolor": "#E5ECF6",
           "radialaxis": {
            "gridcolor": "white",
            "linecolor": "white",
            "ticks": ""
           }
          },
          "scene": {
           "xaxis": {
            "backgroundcolor": "#E5ECF6",
            "gridcolor": "white",
            "gridwidth": 2,
            "linecolor": "white",
            "showbackground": true,
            "ticks": "",
            "zerolinecolor": "white"
           },
           "yaxis": {
            "backgroundcolor": "#E5ECF6",
            "gridcolor": "white",
            "gridwidth": 2,
            "linecolor": "white",
            "showbackground": true,
            "ticks": "",
            "zerolinecolor": "white"
           },
           "zaxis": {
            "backgroundcolor": "#E5ECF6",
            "gridcolor": "white",
            "gridwidth": 2,
            "linecolor": "white",
            "showbackground": true,
            "ticks": "",
            "zerolinecolor": "white"
           }
          },
          "shapedefaults": {
           "line": {
            "color": "#2a3f5f"
           }
          },
          "ternary": {
           "aaxis": {
            "gridcolor": "white",
            "linecolor": "white",
            "ticks": ""
           },
           "baxis": {
            "gridcolor": "white",
            "linecolor": "white",
            "ticks": ""
           },
           "bgcolor": "#E5ECF6",
           "caxis": {
            "gridcolor": "white",
            "linecolor": "white",
            "ticks": ""
           }
          },
          "title": {
           "x": 0.05
          },
          "xaxis": {
           "automargin": true,
           "gridcolor": "white",
           "linecolor": "white",
           "ticks": "",
           "title": {
            "standoff": 15
           },
           "zerolinecolor": "white",
           "zerolinewidth": 2
          },
          "yaxis": {
           "automargin": true,
           "gridcolor": "white",
           "linecolor": "white",
           "ticks": "",
           "title": {
            "standoff": 15
           },
           "zerolinecolor": "white",
           "zerolinewidth": 2
          }
         }
        },
        "title": {
         "text": "Average time difference between two logs in seconds"
        }
       }
      }
     },
     "metadata": {},
     "output_type": "display_data"
    },
    {
     "data": {
      "application/vnd.plotly.v1+json": {
       "config": {
        "plotlyServerURL": "https://plot.ly"
       },
       "data": [
        {
         "type": "bar",
         "x": [
          "PAR01_EXT"
         ],
         "y": [
          60.09613
         ]
        },
        {
         "type": "bar",
         "x": [
          "PAR02_EXT"
         ],
         "y": [
          60.100945
         ]
        },
        {
         "type": "bar",
         "x": [
          "PAR01_Insolagrin01_T60_Portrait_EW"
         ],
         "y": [
          60.09613
         ]
        },
        {
         "type": "bar",
         "x": [
          "PAR01_Insolagrin03_T60_Portrait_WW"
         ],
         "y": [
          60.100945
         ]
        },
        {
         "type": "bar",
         "x": [
          "PAR02_Insolagrin01_T60_Portrait_EW"
         ],
         "y": [
          60.100945
         ]
        },
        {
         "type": "bar",
         "x": [
          "PAR03_Insolagrin01_T60_Portrait_EW"
         ],
         "y": [
          60.09613
         ]
        },
        {
         "type": "bar",
         "x": [
          "PAR04_Insolagrin01_T60_Portrait_EW"
         ],
         "y": [
          60.09613
         ]
        },
        {
         "type": "bar",
         "x": [
          "PAR02_Insolagrin03_T60_Portrait_WW"
         ],
         "y": [
          60.09613
         ]
        },
        {
         "type": "bar",
         "x": [
          "PAR03_Insolagrin03_T60_Portrait_WW"
         ],
         "y": [
          60.100945
         ]
        },
        {
         "type": "bar",
         "x": [
          "PAR04_Insolagrin03_T60_Portrait_WW"
         ],
         "y": [
          60.09613
         ]
        },
        {
         "type": "bar",
         "x": [
          "PAR01_Insolagrin02_T40_Portrait_EW"
         ],
         "y": [
          60.100937
         ]
        },
        {
         "type": "bar",
         "x": [
          "PAR02_Insolagrin02_T40_Portrait_EW"
         ],
         "y": [
          60.100937
         ]
        },
        {
         "type": "bar",
         "x": [
          "PAR03_Insolagrin02_T40_Portrait_EW"
         ],
         "y": [
          60.100937
         ]
        },
        {
         "type": "bar",
         "x": [
          "PAR01_Insolagrin04_T40_Portrait_WW"
         ],
         "y": [
          60.100937
         ]
        },
        {
         "type": "bar",
         "x": [
          "PAR02_Insolagrin04_T40_Portrait_WW"
         ],
         "y": [
          60.100937
         ]
        },
        {
         "type": "bar",
         "x": [
          "PAR03_Insolagrin04_T40_Portrait_WW"
         ],
         "y": [
          60.100937
         ]
        },
        {
         "type": "bar",
         "x": [
          "PAR01_Insolagrin05_T60_Landscape_EW"
         ],
         "y": [
          60.100937
         ]
        },
        {
         "type": "bar",
         "x": [
          "PAR02_Insolagrin05_T60_Landscape_EW"
         ],
         "y": [
          60.100937
         ]
        },
        {
         "type": "bar",
         "x": [
          "PAR03_Insolagrin05_T60_Landscape_EW"
         ],
         "y": [
          60.100937
         ]
        },
        {
         "type": "bar",
         "x": [
          "PAR04_Insolagrin02_T40_Portrait_EW"
         ],
         "y": [
          60.100937
         ]
        },
        {
         "type": "bar",
         "x": [
          "PAR04_Insolagrin04_T40_Portrait_WW"
         ],
         "y": [
          60.100937
         ]
        },
        {
         "type": "bar",
         "x": [
          "PAR04_Insolagrin05_T60_Landscape_EW"
         ],
         "y": [
          60.100937
         ]
        },
        {
         "type": "bar",
         "x": [
          "PAR01_Insolagrin06_T40_Landscape_EW"
         ],
         "y": [
          60.100937
         ]
        },
        {
         "type": "bar",
         "x": [
          "PAR02_Insolagrin06_T40_Landscape_EW"
         ],
         "y": [
          60.100937
         ]
        },
        {
         "type": "bar",
         "x": [
          "PAR03_Insolagrin06_T40_Landscape_EW"
         ],
         "y": [
          60.105752
         ]
        },
        {
         "type": "bar",
         "x": [
          "PAR04_Insolagrin06_T40_Landscape_EW"
         ],
         "y": [
          60.100937
         ]
        },
        {
         "type": "bar",
         "x": [
          "TRH_top_Insolagrin01_T60_Portrait_EW"
         ],
         "y": [
          60.763
         ]
        },
        {
         "type": "bar",
         "x": [
          "TRH_bottom_Insolagrin01_T60_Portrait_EW"
         ],
         "y": [
          60.777768
         ]
        },
        {
         "type": "bar",
         "x": [
          "TRH_top_Insolagrin03_T60_Portrait_WW"
         ],
         "y": [
          60.216728
         ]
        },
        {
         "type": "bar",
         "x": [
          "TRH_top_EXT"
         ],
         "y": [
          60.985285
         ]
        },
        {
         "type": "bar",
         "x": [
          "SOIL_UP_Insolagrin02"
         ],
         "y": [
          10.015353
         ]
        },
        {
         "type": "bar",
         "x": [
          "SOIL_DOWN_Insolagrin02"
         ],
         "y": [
          10.015353
         ]
        },
        {
         "type": "bar",
         "x": [
          "TRH_bottom_Insolagrin02_T40_Portrait_EW"
         ],
         "y": [
          60.689264
         ]
        },
        {
         "type": "bar",
         "x": [
          "TRH_top_Insolagrin04_T40_Portrait_WW"
         ],
         "y": [
          62.982117
         ]
        },
        {
         "type": "bar",
         "x": [
          "TRH_bottom_Insolagrin04_T40_Portrait_WW"
         ],
         "y": [
          60.748238
         ]
        },
        {
         "type": "bar",
         "x": [
          "TRH_bottom_EXT"
         ],
         "y": [
          60.645109
         ]
        },
        {
         "type": "bar",
         "x": [
          "TRH_bottom_Insolagrin05_T60_Landscape_EW"
         ],
         "y": [
          60.797471
         ]
        },
        {
         "type": "bar",
         "x": [
          "TRH_top_Insolagrin05_T60_Landscape_EW"
         ],
         "y": [
          60.787618
         ]
        },
        {
         "type": "bar",
         "x": [
          "TRH_bottom_Insolagrin06_T40_Landscape_EW"
         ],
         "y": [
          60.861593
         ]
        },
        {
         "type": "bar",
         "x": [
          "TRH_top_Insolagrin06_T40_Landscape_EW"
         ],
         "y": [
          60.81219
         ]
        },
        {
         "type": "bar",
         "x": [
          "TRH_top_Insolagrin02_T40_Portrait_EW"
         ],
         "y": [
          62.447552
         ]
        },
        {
         "type": "bar",
         "x": [
          "TRH_bottom_Insolagrin03_T60_Portrait_WW"
         ],
         "y": [
          62.862711
         ]
        },
        {
         "type": "bar",
         "x": [
          "RAIN_EXT"
         ],
         "y": [
          60.09613
         ]
        },
        {
         "type": "bar",
         "x": [
          "WIND01_EXT"
         ],
         "y": [
          60.09613
         ]
        },
        {
         "type": "bar",
         "x": [
          "WIND02_EXT"
         ],
         "y": [
          93.159463
         ]
        },
        {
         "type": "bar",
         "x": [
          "LeafTemp_Z2_int_int"
         ],
         "y": [
          12.018455
         ]
        },
        {
         "type": "bar",
         "x": [
          "LeafTemp_Z2_side_int"
         ],
         "y": [
          12.018455
         ]
        },
        {
         "type": "bar",
         "x": [
          "LeafTemp_Z2_side_ext"
         ],
         "y": [
          12.018455
         ]
        },
        {
         "type": "bar",
         "x": [
          "LeafTemp_Z4_int_int"
         ],
         "y": [
          12.018455
         ]
        }
       ],
       "layout": {
        "template": {
         "data": {
          "bar": [
           {
            "error_x": {
             "color": "#2a3f5f"
            },
            "error_y": {
             "color": "#2a3f5f"
            },
            "marker": {
             "line": {
              "color": "#E5ECF6",
              "width": 0.5
             },
             "pattern": {
              "fillmode": "overlay",
              "size": 10,
              "solidity": 0.2
             }
            },
            "type": "bar"
           }
          ],
          "barpolar": [
           {
            "marker": {
             "line": {
              "color": "#E5ECF6",
              "width": 0.5
             },
             "pattern": {
              "fillmode": "overlay",
              "size": 10,
              "solidity": 0.2
             }
            },
            "type": "barpolar"
           }
          ],
          "carpet": [
           {
            "aaxis": {
             "endlinecolor": "#2a3f5f",
             "gridcolor": "white",
             "linecolor": "white",
             "minorgridcolor": "white",
             "startlinecolor": "#2a3f5f"
            },
            "baxis": {
             "endlinecolor": "#2a3f5f",
             "gridcolor": "white",
             "linecolor": "white",
             "minorgridcolor": "white",
             "startlinecolor": "#2a3f5f"
            },
            "type": "carpet"
           }
          ],
          "choropleth": [
           {
            "colorbar": {
             "outlinewidth": 0,
             "ticks": ""
            },
            "type": "choropleth"
           }
          ],
          "contour": [
           {
            "colorbar": {
             "outlinewidth": 0,
             "ticks": ""
            },
            "colorscale": [
             [
              0,
              "#0d0887"
             ],
             [
              0.1111111111111111,
              "#46039f"
             ],
             [
              0.2222222222222222,
              "#7201a8"
             ],
             [
              0.3333333333333333,
              "#9c179e"
             ],
             [
              0.4444444444444444,
              "#bd3786"
             ],
             [
              0.5555555555555556,
              "#d8576b"
             ],
             [
              0.6666666666666666,
              "#ed7953"
             ],
             [
              0.7777777777777778,
              "#fb9f3a"
             ],
             [
              0.8888888888888888,
              "#fdca26"
             ],
             [
              1,
              "#f0f921"
             ]
            ],
            "type": "contour"
           }
          ],
          "contourcarpet": [
           {
            "colorbar": {
             "outlinewidth": 0,
             "ticks": ""
            },
            "type": "contourcarpet"
           }
          ],
          "heatmap": [
           {
            "colorbar": {
             "outlinewidth": 0,
             "ticks": ""
            },
            "colorscale": [
             [
              0,
              "#0d0887"
             ],
             [
              0.1111111111111111,
              "#46039f"
             ],
             [
              0.2222222222222222,
              "#7201a8"
             ],
             [
              0.3333333333333333,
              "#9c179e"
             ],
             [
              0.4444444444444444,
              "#bd3786"
             ],
             [
              0.5555555555555556,
              "#d8576b"
             ],
             [
              0.6666666666666666,
              "#ed7953"
             ],
             [
              0.7777777777777778,
              "#fb9f3a"
             ],
             [
              0.8888888888888888,
              "#fdca26"
             ],
             [
              1,
              "#f0f921"
             ]
            ],
            "type": "heatmap"
           }
          ],
          "heatmapgl": [
           {
            "colorbar": {
             "outlinewidth": 0,
             "ticks": ""
            },
            "colorscale": [
             [
              0,
              "#0d0887"
             ],
             [
              0.1111111111111111,
              "#46039f"
             ],
             [
              0.2222222222222222,
              "#7201a8"
             ],
             [
              0.3333333333333333,
              "#9c179e"
             ],
             [
              0.4444444444444444,
              "#bd3786"
             ],
             [
              0.5555555555555556,
              "#d8576b"
             ],
             [
              0.6666666666666666,
              "#ed7953"
             ],
             [
              0.7777777777777778,
              "#fb9f3a"
             ],
             [
              0.8888888888888888,
              "#fdca26"
             ],
             [
              1,
              "#f0f921"
             ]
            ],
            "type": "heatmapgl"
           }
          ],
          "histogram": [
           {
            "marker": {
             "pattern": {
              "fillmode": "overlay",
              "size": 10,
              "solidity": 0.2
             }
            },
            "type": "histogram"
           }
          ],
          "histogram2d": [
           {
            "colorbar": {
             "outlinewidth": 0,
             "ticks": ""
            },
            "colorscale": [
             [
              0,
              "#0d0887"
             ],
             [
              0.1111111111111111,
              "#46039f"
             ],
             [
              0.2222222222222222,
              "#7201a8"
             ],
             [
              0.3333333333333333,
              "#9c179e"
             ],
             [
              0.4444444444444444,
              "#bd3786"
             ],
             [
              0.5555555555555556,
              "#d8576b"
             ],
             [
              0.6666666666666666,
              "#ed7953"
             ],
             [
              0.7777777777777778,
              "#fb9f3a"
             ],
             [
              0.8888888888888888,
              "#fdca26"
             ],
             [
              1,
              "#f0f921"
             ]
            ],
            "type": "histogram2d"
           }
          ],
          "histogram2dcontour": [
           {
            "colorbar": {
             "outlinewidth": 0,
             "ticks": ""
            },
            "colorscale": [
             [
              0,
              "#0d0887"
             ],
             [
              0.1111111111111111,
              "#46039f"
             ],
             [
              0.2222222222222222,
              "#7201a8"
             ],
             [
              0.3333333333333333,
              "#9c179e"
             ],
             [
              0.4444444444444444,
              "#bd3786"
             ],
             [
              0.5555555555555556,
              "#d8576b"
             ],
             [
              0.6666666666666666,
              "#ed7953"
             ],
             [
              0.7777777777777778,
              "#fb9f3a"
             ],
             [
              0.8888888888888888,
              "#fdca26"
             ],
             [
              1,
              "#f0f921"
             ]
            ],
            "type": "histogram2dcontour"
           }
          ],
          "mesh3d": [
           {
            "colorbar": {
             "outlinewidth": 0,
             "ticks": ""
            },
            "type": "mesh3d"
           }
          ],
          "parcoords": [
           {
            "line": {
             "colorbar": {
              "outlinewidth": 0,
              "ticks": ""
             }
            },
            "type": "parcoords"
           }
          ],
          "pie": [
           {
            "automargin": true,
            "type": "pie"
           }
          ],
          "scatter": [
           {
            "fillpattern": {
             "fillmode": "overlay",
             "size": 10,
             "solidity": 0.2
            },
            "type": "scatter"
           }
          ],
          "scatter3d": [
           {
            "line": {
             "colorbar": {
              "outlinewidth": 0,
              "ticks": ""
             }
            },
            "marker": {
             "colorbar": {
              "outlinewidth": 0,
              "ticks": ""
             }
            },
            "type": "scatter3d"
           }
          ],
          "scattercarpet": [
           {
            "marker": {
             "colorbar": {
              "outlinewidth": 0,
              "ticks": ""
             }
            },
            "type": "scattercarpet"
           }
          ],
          "scattergeo": [
           {
            "marker": {
             "colorbar": {
              "outlinewidth": 0,
              "ticks": ""
             }
            },
            "type": "scattergeo"
           }
          ],
          "scattergl": [
           {
            "marker": {
             "colorbar": {
              "outlinewidth": 0,
              "ticks": ""
             }
            },
            "type": "scattergl"
           }
          ],
          "scattermapbox": [
           {
            "marker": {
             "colorbar": {
              "outlinewidth": 0,
              "ticks": ""
             }
            },
            "type": "scattermapbox"
           }
          ],
          "scatterpolar": [
           {
            "marker": {
             "colorbar": {
              "outlinewidth": 0,
              "ticks": ""
             }
            },
            "type": "scatterpolar"
           }
          ],
          "scatterpolargl": [
           {
            "marker": {
             "colorbar": {
              "outlinewidth": 0,
              "ticks": ""
             }
            },
            "type": "scatterpolargl"
           }
          ],
          "scatterternary": [
           {
            "marker": {
             "colorbar": {
              "outlinewidth": 0,
              "ticks": ""
             }
            },
            "type": "scatterternary"
           }
          ],
          "surface": [
           {
            "colorbar": {
             "outlinewidth": 0,
             "ticks": ""
            },
            "colorscale": [
             [
              0,
              "#0d0887"
             ],
             [
              0.1111111111111111,
              "#46039f"
             ],
             [
              0.2222222222222222,
              "#7201a8"
             ],
             [
              0.3333333333333333,
              "#9c179e"
             ],
             [
              0.4444444444444444,
              "#bd3786"
             ],
             [
              0.5555555555555556,
              "#d8576b"
             ],
             [
              0.6666666666666666,
              "#ed7953"
             ],
             [
              0.7777777777777778,
              "#fb9f3a"
             ],
             [
              0.8888888888888888,
              "#fdca26"
             ],
             [
              1,
              "#f0f921"
             ]
            ],
            "type": "surface"
           }
          ],
          "table": [
           {
            "cells": {
             "fill": {
              "color": "#EBF0F8"
             },
             "line": {
              "color": "white"
             }
            },
            "header": {
             "fill": {
              "color": "#C8D4E3"
             },
             "line": {
              "color": "white"
             }
            },
            "type": "table"
           }
          ]
         },
         "layout": {
          "annotationdefaults": {
           "arrowcolor": "#2a3f5f",
           "arrowhead": 0,
           "arrowwidth": 1
          },
          "autotypenumbers": "strict",
          "coloraxis": {
           "colorbar": {
            "outlinewidth": 0,
            "ticks": ""
           }
          },
          "colorscale": {
           "diverging": [
            [
             0,
             "#8e0152"
            ],
            [
             0.1,
             "#c51b7d"
            ],
            [
             0.2,
             "#de77ae"
            ],
            [
             0.3,
             "#f1b6da"
            ],
            [
             0.4,
             "#fde0ef"
            ],
            [
             0.5,
             "#f7f7f7"
            ],
            [
             0.6,
             "#e6f5d0"
            ],
            [
             0.7,
             "#b8e186"
            ],
            [
             0.8,
             "#7fbc41"
            ],
            [
             0.9,
             "#4d9221"
            ],
            [
             1,
             "#276419"
            ]
           ],
           "sequential": [
            [
             0,
             "#0d0887"
            ],
            [
             0.1111111111111111,
             "#46039f"
            ],
            [
             0.2222222222222222,
             "#7201a8"
            ],
            [
             0.3333333333333333,
             "#9c179e"
            ],
            [
             0.4444444444444444,
             "#bd3786"
            ],
            [
             0.5555555555555556,
             "#d8576b"
            ],
            [
             0.6666666666666666,
             "#ed7953"
            ],
            [
             0.7777777777777778,
             "#fb9f3a"
            ],
            [
             0.8888888888888888,
             "#fdca26"
            ],
            [
             1,
             "#f0f921"
            ]
           ],
           "sequentialminus": [
            [
             0,
             "#0d0887"
            ],
            [
             0.1111111111111111,
             "#46039f"
            ],
            [
             0.2222222222222222,
             "#7201a8"
            ],
            [
             0.3333333333333333,
             "#9c179e"
            ],
            [
             0.4444444444444444,
             "#bd3786"
            ],
            [
             0.5555555555555556,
             "#d8576b"
            ],
            [
             0.6666666666666666,
             "#ed7953"
            ],
            [
             0.7777777777777778,
             "#fb9f3a"
            ],
            [
             0.8888888888888888,
             "#fdca26"
            ],
            [
             1,
             "#f0f921"
            ]
           ]
          },
          "colorway": [
           "#636efa",
           "#EF553B",
           "#00cc96",
           "#ab63fa",
           "#FFA15A",
           "#19d3f3",
           "#FF6692",
           "#B6E880",
           "#FF97FF",
           "#FECB52"
          ],
          "font": {
           "color": "#2a3f5f"
          },
          "geo": {
           "bgcolor": "white",
           "lakecolor": "white",
           "landcolor": "#E5ECF6",
           "showlakes": true,
           "showland": true,
           "subunitcolor": "white"
          },
          "hoverlabel": {
           "align": "left"
          },
          "hovermode": "closest",
          "mapbox": {
           "style": "light"
          },
          "paper_bgcolor": "white",
          "plot_bgcolor": "#E5ECF6",
          "polar": {
           "angularaxis": {
            "gridcolor": "white",
            "linecolor": "white",
            "ticks": ""
           },
           "bgcolor": "#E5ECF6",
           "radialaxis": {
            "gridcolor": "white",
            "linecolor": "white",
            "ticks": ""
           }
          },
          "scene": {
           "xaxis": {
            "backgroundcolor": "#E5ECF6",
            "gridcolor": "white",
            "gridwidth": 2,
            "linecolor": "white",
            "showbackground": true,
            "ticks": "",
            "zerolinecolor": "white"
           },
           "yaxis": {
            "backgroundcolor": "#E5ECF6",
            "gridcolor": "white",
            "gridwidth": 2,
            "linecolor": "white",
            "showbackground": true,
            "ticks": "",
            "zerolinecolor": "white"
           },
           "zaxis": {
            "backgroundcolor": "#E5ECF6",
            "gridcolor": "white",
            "gridwidth": 2,
            "linecolor": "white",
            "showbackground": true,
            "ticks": "",
            "zerolinecolor": "white"
           }
          },
          "shapedefaults": {
           "line": {
            "color": "#2a3f5f"
           }
          },
          "ternary": {
           "aaxis": {
            "gridcolor": "white",
            "linecolor": "white",
            "ticks": ""
           },
           "baxis": {
            "gridcolor": "white",
            "linecolor": "white",
            "ticks": ""
           },
           "bgcolor": "#E5ECF6",
           "caxis": {
            "gridcolor": "white",
            "linecolor": "white",
            "ticks": ""
           }
          },
          "title": {
           "x": 0.05
          },
          "xaxis": {
           "automargin": true,
           "gridcolor": "white",
           "linecolor": "white",
           "ticks": "",
           "title": {
            "standoff": 15
           },
           "zerolinecolor": "white",
           "zerolinewidth": 2
          },
          "yaxis": {
           "automargin": true,
           "gridcolor": "white",
           "linecolor": "white",
           "ticks": "",
           "title": {
            "standoff": 15
           },
           "zerolinecolor": "white",
           "zerolinewidth": 2
          }
         }
        },
        "title": {
         "text": "Average time difference between two logs in seconds"
        }
       }
      }
     },
     "metadata": {},
     "output_type": "display_data"
    },
    {
     "data": {
      "application/vnd.plotly.v1+json": {
       "config": {
        "plotlyServerURL": "https://plot.ly"
       },
       "data": [
        {
         "type": "bar",
         "x": [
          "PAR01_EXT"
         ],
         "y": [
          79.923298
         ]
        },
        {
         "type": "bar",
         "x": [
          "PAR01_kontroll"
         ],
         "y": [
          60.009598
         ]
        },
        {
         "type": "bar",
         "x": [
          "PAR02_kontroll"
         ],
         "y": [
          60.009598
         ]
        },
        {
         "type": "bar",
         "x": [
          "PAR03_kontroll"
         ],
         "y": [
          60.004798
         ]
        },
        {
         "type": "bar",
         "x": [
          "PAR01_INSOLAGRIN"
         ],
         "y": [
          60.115384
         ]
        },
        {
         "type": "bar",
         "x": [
          "PAR02_INSOLAGRIN"
         ],
         "y": [
          60.091309
         ]
        },
        {
         "type": "bar",
         "x": [
          "PAR02_EXT"
         ],
         "y": [
          64.337535
         ]
        },
        {
         "type": "bar",
         "x": [
          "PAR01_agriverti"
         ],
         "y": [
          76.656789
         ]
        },
        {
         "type": "bar",
         "x": [
          "PAR02_agriverti"
         ],
         "y": [
          76.648957
         ]
        },
        {
         "type": "bar",
         "x": [
          "PAR03_agriverti"
         ],
         "y": [
          76.648957
         ]
        },
        {
         "type": "bar",
         "x": [
          "PAR03_INSOLAGRIN"
         ],
         "y": [
          60.091309
         ]
        },
        {
         "type": "bar",
         "x": [
          "PAR04_INSOLAGRIN"
         ],
         "y": [
          60.091309
         ]
        },
        {
         "type": "bar",
         "x": [
          "GHI_01_EXT"
         ],
         "y": [
          60.158781
         ]
        },
        {
         "type": "bar",
         "x": [
          "TRH01_EXT"
         ],
         "y": [
          70.08408
         ]
        },
        {
         "type": "bar",
         "x": [
          "TRH02_EXT"
         ],
         "y": [
          68.690715
         ]
        },
        {
         "type": "bar",
         "x": [
          "TRH01_kontroll"
         ],
         "y": [
          74.031971
         ]
        },
        {
         "type": "bar",
         "x": [
          "TRH02_kontroll"
         ],
         "y": [
          75.486013
         ]
        },
        {
         "type": "bar",
         "x": [
          "TRH03_EXT"
         ],
         "y": [
          80.068303
         ]
        },
        {
         "type": "bar",
         "x": [
          "TRH04_EXT"
         ],
         "y": [
          84.448446
         ]
        },
        {
         "type": "bar",
         "x": [
          "TRH01_INSOLAGRIN"
         ],
         "y": [
          60.965382
         ]
        },
        {
         "type": "bar",
         "x": [
          "TRH02_INSOLAGRIN"
         ],
         "y": [
          60.802334
         ]
        },
        {
         "type": "bar",
         "x": [
          "TRH01_agriverti"
         ],
         "y": [
          78.707511
         ]
        },
        {
         "type": "bar",
         "x": [
          "TRH02_agriverti"
         ],
         "y": [
          77.616387
         ]
        },
        {
         "type": "bar",
         "x": [
          "RAIN01_EXT"
         ],
         "y": [
          60.240905
         ]
        },
        {
         "type": "bar",
         "x": [
          "WIND01_EXT"
         ],
         "y": [
          60.115384
         ]
        },
        {
         "type": "bar",
         "x": [
          "WIND02_EXT"
         ],
         "y": [
          97.146189
         ]
        }
       ],
       "layout": {
        "template": {
         "data": {
          "bar": [
           {
            "error_x": {
             "color": "#2a3f5f"
            },
            "error_y": {
             "color": "#2a3f5f"
            },
            "marker": {
             "line": {
              "color": "#E5ECF6",
              "width": 0.5
             },
             "pattern": {
              "fillmode": "overlay",
              "size": 10,
              "solidity": 0.2
             }
            },
            "type": "bar"
           }
          ],
          "barpolar": [
           {
            "marker": {
             "line": {
              "color": "#E5ECF6",
              "width": 0.5
             },
             "pattern": {
              "fillmode": "overlay",
              "size": 10,
              "solidity": 0.2
             }
            },
            "type": "barpolar"
           }
          ],
          "carpet": [
           {
            "aaxis": {
             "endlinecolor": "#2a3f5f",
             "gridcolor": "white",
             "linecolor": "white",
             "minorgridcolor": "white",
             "startlinecolor": "#2a3f5f"
            },
            "baxis": {
             "endlinecolor": "#2a3f5f",
             "gridcolor": "white",
             "linecolor": "white",
             "minorgridcolor": "white",
             "startlinecolor": "#2a3f5f"
            },
            "type": "carpet"
           }
          ],
          "choropleth": [
           {
            "colorbar": {
             "outlinewidth": 0,
             "ticks": ""
            },
            "type": "choropleth"
           }
          ],
          "contour": [
           {
            "colorbar": {
             "outlinewidth": 0,
             "ticks": ""
            },
            "colorscale": [
             [
              0,
              "#0d0887"
             ],
             [
              0.1111111111111111,
              "#46039f"
             ],
             [
              0.2222222222222222,
              "#7201a8"
             ],
             [
              0.3333333333333333,
              "#9c179e"
             ],
             [
              0.4444444444444444,
              "#bd3786"
             ],
             [
              0.5555555555555556,
              "#d8576b"
             ],
             [
              0.6666666666666666,
              "#ed7953"
             ],
             [
              0.7777777777777778,
              "#fb9f3a"
             ],
             [
              0.8888888888888888,
              "#fdca26"
             ],
             [
              1,
              "#f0f921"
             ]
            ],
            "type": "contour"
           }
          ],
          "contourcarpet": [
           {
            "colorbar": {
             "outlinewidth": 0,
             "ticks": ""
            },
            "type": "contourcarpet"
           }
          ],
          "heatmap": [
           {
            "colorbar": {
             "outlinewidth": 0,
             "ticks": ""
            },
            "colorscale": [
             [
              0,
              "#0d0887"
             ],
             [
              0.1111111111111111,
              "#46039f"
             ],
             [
              0.2222222222222222,
              "#7201a8"
             ],
             [
              0.3333333333333333,
              "#9c179e"
             ],
             [
              0.4444444444444444,
              "#bd3786"
             ],
             [
              0.5555555555555556,
              "#d8576b"
             ],
             [
              0.6666666666666666,
              "#ed7953"
             ],
             [
              0.7777777777777778,
              "#fb9f3a"
             ],
             [
              0.8888888888888888,
              "#fdca26"
             ],
             [
              1,
              "#f0f921"
             ]
            ],
            "type": "heatmap"
           }
          ],
          "heatmapgl": [
           {
            "colorbar": {
             "outlinewidth": 0,
             "ticks": ""
            },
            "colorscale": [
             [
              0,
              "#0d0887"
             ],
             [
              0.1111111111111111,
              "#46039f"
             ],
             [
              0.2222222222222222,
              "#7201a8"
             ],
             [
              0.3333333333333333,
              "#9c179e"
             ],
             [
              0.4444444444444444,
              "#bd3786"
             ],
             [
              0.5555555555555556,
              "#d8576b"
             ],
             [
              0.6666666666666666,
              "#ed7953"
             ],
             [
              0.7777777777777778,
              "#fb9f3a"
             ],
             [
              0.8888888888888888,
              "#fdca26"
             ],
             [
              1,
              "#f0f921"
             ]
            ],
            "type": "heatmapgl"
           }
          ],
          "histogram": [
           {
            "marker": {
             "pattern": {
              "fillmode": "overlay",
              "size": 10,
              "solidity": 0.2
             }
            },
            "type": "histogram"
           }
          ],
          "histogram2d": [
           {
            "colorbar": {
             "outlinewidth": 0,
             "ticks": ""
            },
            "colorscale": [
             [
              0,
              "#0d0887"
             ],
             [
              0.1111111111111111,
              "#46039f"
             ],
             [
              0.2222222222222222,
              "#7201a8"
             ],
             [
              0.3333333333333333,
              "#9c179e"
             ],
             [
              0.4444444444444444,
              "#bd3786"
             ],
             [
              0.5555555555555556,
              "#d8576b"
             ],
             [
              0.6666666666666666,
              "#ed7953"
             ],
             [
              0.7777777777777778,
              "#fb9f3a"
             ],
             [
              0.8888888888888888,
              "#fdca26"
             ],
             [
              1,
              "#f0f921"
             ]
            ],
            "type": "histogram2d"
           }
          ],
          "histogram2dcontour": [
           {
            "colorbar": {
             "outlinewidth": 0,
             "ticks": ""
            },
            "colorscale": [
             [
              0,
              "#0d0887"
             ],
             [
              0.1111111111111111,
              "#46039f"
             ],
             [
              0.2222222222222222,
              "#7201a8"
             ],
             [
              0.3333333333333333,
              "#9c179e"
             ],
             [
              0.4444444444444444,
              "#bd3786"
             ],
             [
              0.5555555555555556,
              "#d8576b"
             ],
             [
              0.6666666666666666,
              "#ed7953"
             ],
             [
              0.7777777777777778,
              "#fb9f3a"
             ],
             [
              0.8888888888888888,
              "#fdca26"
             ],
             [
              1,
              "#f0f921"
             ]
            ],
            "type": "histogram2dcontour"
           }
          ],
          "mesh3d": [
           {
            "colorbar": {
             "outlinewidth": 0,
             "ticks": ""
            },
            "type": "mesh3d"
           }
          ],
          "parcoords": [
           {
            "line": {
             "colorbar": {
              "outlinewidth": 0,
              "ticks": ""
             }
            },
            "type": "parcoords"
           }
          ],
          "pie": [
           {
            "automargin": true,
            "type": "pie"
           }
          ],
          "scatter": [
           {
            "fillpattern": {
             "fillmode": "overlay",
             "size": 10,
             "solidity": 0.2
            },
            "type": "scatter"
           }
          ],
          "scatter3d": [
           {
            "line": {
             "colorbar": {
              "outlinewidth": 0,
              "ticks": ""
             }
            },
            "marker": {
             "colorbar": {
              "outlinewidth": 0,
              "ticks": ""
             }
            },
            "type": "scatter3d"
           }
          ],
          "scattercarpet": [
           {
            "marker": {
             "colorbar": {
              "outlinewidth": 0,
              "ticks": ""
             }
            },
            "type": "scattercarpet"
           }
          ],
          "scattergeo": [
           {
            "marker": {
             "colorbar": {
              "outlinewidth": 0,
              "ticks": ""
             }
            },
            "type": "scattergeo"
           }
          ],
          "scattergl": [
           {
            "marker": {
             "colorbar": {
              "outlinewidth": 0,
              "ticks": ""
             }
            },
            "type": "scattergl"
           }
          ],
          "scattermapbox": [
           {
            "marker": {
             "colorbar": {
              "outlinewidth": 0,
              "ticks": ""
             }
            },
            "type": "scattermapbox"
           }
          ],
          "scatterpolar": [
           {
            "marker": {
             "colorbar": {
              "outlinewidth": 0,
              "ticks": ""
             }
            },
            "type": "scatterpolar"
           }
          ],
          "scatterpolargl": [
           {
            "marker": {
             "colorbar": {
              "outlinewidth": 0,
              "ticks": ""
             }
            },
            "type": "scatterpolargl"
           }
          ],
          "scatterternary": [
           {
            "marker": {
             "colorbar": {
              "outlinewidth": 0,
              "ticks": ""
             }
            },
            "type": "scatterternary"
           }
          ],
          "surface": [
           {
            "colorbar": {
             "outlinewidth": 0,
             "ticks": ""
            },
            "colorscale": [
             [
              0,
              "#0d0887"
             ],
             [
              0.1111111111111111,
              "#46039f"
             ],
             [
              0.2222222222222222,
              "#7201a8"
             ],
             [
              0.3333333333333333,
              "#9c179e"
             ],
             [
              0.4444444444444444,
              "#bd3786"
             ],
             [
              0.5555555555555556,
              "#d8576b"
             ],
             [
              0.6666666666666666,
              "#ed7953"
             ],
             [
              0.7777777777777778,
              "#fb9f3a"
             ],
             [
              0.8888888888888888,
              "#fdca26"
             ],
             [
              1,
              "#f0f921"
             ]
            ],
            "type": "surface"
           }
          ],
          "table": [
           {
            "cells": {
             "fill": {
              "color": "#EBF0F8"
             },
             "line": {
              "color": "white"
             }
            },
            "header": {
             "fill": {
              "color": "#C8D4E3"
             },
             "line": {
              "color": "white"
             }
            },
            "type": "table"
           }
          ]
         },
         "layout": {
          "annotationdefaults": {
           "arrowcolor": "#2a3f5f",
           "arrowhead": 0,
           "arrowwidth": 1
          },
          "autotypenumbers": "strict",
          "coloraxis": {
           "colorbar": {
            "outlinewidth": 0,
            "ticks": ""
           }
          },
          "colorscale": {
           "diverging": [
            [
             0,
             "#8e0152"
            ],
            [
             0.1,
             "#c51b7d"
            ],
            [
             0.2,
             "#de77ae"
            ],
            [
             0.3,
             "#f1b6da"
            ],
            [
             0.4,
             "#fde0ef"
            ],
            [
             0.5,
             "#f7f7f7"
            ],
            [
             0.6,
             "#e6f5d0"
            ],
            [
             0.7,
             "#b8e186"
            ],
            [
             0.8,
             "#7fbc41"
            ],
            [
             0.9,
             "#4d9221"
            ],
            [
             1,
             "#276419"
            ]
           ],
           "sequential": [
            [
             0,
             "#0d0887"
            ],
            [
             0.1111111111111111,
             "#46039f"
            ],
            [
             0.2222222222222222,
             "#7201a8"
            ],
            [
             0.3333333333333333,
             "#9c179e"
            ],
            [
             0.4444444444444444,
             "#bd3786"
            ],
            [
             0.5555555555555556,
             "#d8576b"
            ],
            [
             0.6666666666666666,
             "#ed7953"
            ],
            [
             0.7777777777777778,
             "#fb9f3a"
            ],
            [
             0.8888888888888888,
             "#fdca26"
            ],
            [
             1,
             "#f0f921"
            ]
           ],
           "sequentialminus": [
            [
             0,
             "#0d0887"
            ],
            [
             0.1111111111111111,
             "#46039f"
            ],
            [
             0.2222222222222222,
             "#7201a8"
            ],
            [
             0.3333333333333333,
             "#9c179e"
            ],
            [
             0.4444444444444444,
             "#bd3786"
            ],
            [
             0.5555555555555556,
             "#d8576b"
            ],
            [
             0.6666666666666666,
             "#ed7953"
            ],
            [
             0.7777777777777778,
             "#fb9f3a"
            ],
            [
             0.8888888888888888,
             "#fdca26"
            ],
            [
             1,
             "#f0f921"
            ]
           ]
          },
          "colorway": [
           "#636efa",
           "#EF553B",
           "#00cc96",
           "#ab63fa",
           "#FFA15A",
           "#19d3f3",
           "#FF6692",
           "#B6E880",
           "#FF97FF",
           "#FECB52"
          ],
          "font": {
           "color": "#2a3f5f"
          },
          "geo": {
           "bgcolor": "white",
           "lakecolor": "white",
           "landcolor": "#E5ECF6",
           "showlakes": true,
           "showland": true,
           "subunitcolor": "white"
          },
          "hoverlabel": {
           "align": "left"
          },
          "hovermode": "closest",
          "mapbox": {
           "style": "light"
          },
          "paper_bgcolor": "white",
          "plot_bgcolor": "#E5ECF6",
          "polar": {
           "angularaxis": {
            "gridcolor": "white",
            "linecolor": "white",
            "ticks": ""
           },
           "bgcolor": "#E5ECF6",
           "radialaxis": {
            "gridcolor": "white",
            "linecolor": "white",
            "ticks": ""
           }
          },
          "scene": {
           "xaxis": {
            "backgroundcolor": "#E5ECF6",
            "gridcolor": "white",
            "gridwidth": 2,
            "linecolor": "white",
            "showbackground": true,
            "ticks": "",
            "zerolinecolor": "white"
           },
           "yaxis": {
            "backgroundcolor": "#E5ECF6",
            "gridcolor": "white",
            "gridwidth": 2,
            "linecolor": "white",
            "showbackground": true,
            "ticks": "",
            "zerolinecolor": "white"
           },
           "zaxis": {
            "backgroundcolor": "#E5ECF6",
            "gridcolor": "white",
            "gridwidth": 2,
            "linecolor": "white",
            "showbackground": true,
            "ticks": "",
            "zerolinecolor": "white"
           }
          },
          "shapedefaults": {
           "line": {
            "color": "#2a3f5f"
           }
          },
          "ternary": {
           "aaxis": {
            "gridcolor": "white",
            "linecolor": "white",
            "ticks": ""
           },
           "baxis": {
            "gridcolor": "white",
            "linecolor": "white",
            "ticks": ""
           },
           "bgcolor": "#E5ECF6",
           "caxis": {
            "gridcolor": "white",
            "linecolor": "white",
            "ticks": ""
           }
          },
          "title": {
           "x": 0.05
          },
          "xaxis": {
           "automargin": true,
           "gridcolor": "white",
           "linecolor": "white",
           "ticks": "",
           "title": {
            "standoff": 15
           },
           "zerolinecolor": "white",
           "zerolinewidth": 2
          },
          "yaxis": {
           "automargin": true,
           "gridcolor": "white",
           "linecolor": "white",
           "ticks": "",
           "title": {
            "standoff": 15
           },
           "zerolinecolor": "white",
           "zerolinewidth": 2
          }
         }
        },
        "title": {
         "text": "Average time difference between two logs in seconds"
        }
       }
      }
     },
     "metadata": {},
     "output_type": "display_data"
    }
   ],
   "source": [
    "# time_diff = {}\n",
    "time_diff_mean = {}\n",
    "for instal in logs_joined_unique:\n",
    "    # time_diff[instal] = {}\n",
    "    time_diff_mean[instal] = {}\n",
    "    for sensor in logs_joined_unique[instal]:\n",
    "        time_diff_mean[instal][sensor] = logs_joined_unique[instal][sensor].index.to_series().diff()[1:].mean().total_seconds()\n",
    "        # time_diff[sensor] = time_diff[sensor][1:]\n",
    "        # time_diff_mean[sensor] = time_diff[sensor].mean().total_seconds()\n",
    "\n",
    "    #compute the average time difference between two logs in seconds\n",
    "\n",
    "    # for sensor in logs_joined_unique:\n",
    "\n",
    "\n",
    "        #make a bar plot of the average time difference between two logs using plotly\n",
    "    fig = go.Figure()\n",
    "    for sensor in logs_joined_unique[instal]:\n",
    "        fig.add_trace(go.Bar(x=[sensor], y=[time_diff_mean[instal][sensor]]))\n",
    "    fig.update_layout(title_text='Average time difference between two logs in seconds')\n",
    "    fig.show()"
   ]
  },
  {
   "cell_type": "code",
   "execution_count": 22,
   "metadata": {},
   "outputs": [
    {
     "data": {
      "text/html": [
       "<div>\n",
       "<style scoped>\n",
       "    .dataframe tbody tr th:only-of-type {\n",
       "        vertical-align: middle;\n",
       "    }\n",
       "\n",
       "    .dataframe tbody tr th {\n",
       "        vertical-align: top;\n",
       "    }\n",
       "\n",
       "    .dataframe thead th {\n",
       "        text-align: right;\n",
       "    }\n",
       "</style>\n",
       "<table border=\"1\" class=\"dataframe\">\n",
       "  <thead>\n",
       "    <tr style=\"text-align: right;\">\n",
       "      <th></th>\n",
       "      <th>time_diff_mean</th>\n",
       "      <th>last_log</th>\n",
       "    </tr>\n",
       "  </thead>\n",
       "  <tbody>\n",
       "  </tbody>\n",
       "</table>\n",
       "</div>"
      ],
      "text/plain": [
       "Empty DataFrame\n",
       "Columns: [time_diff_mean, last_log]\n",
       "Index: []"
      ]
     },
     "execution_count": 22,
     "metadata": {},
     "output_type": "execute_result"
    }
   ],
   "source": [
    "#make a df, with the name of the sensor, the average time difference between two logs and the last log\n",
    "df = pd.DataFrame.from_dict(time_diff_mean, orient='index', columns=['time_diff_mean'])\n",
    "# df['last_log'] = last_log.values()\n",
    "#add the last log to the df, based on the name of the sensor\n",
    "\n",
    "last_log\n",
    "\n",
    "\n",
    "df['last_log'] = df.index.map(last_log)\n",
    "df"
   ]
  },
  {
   "cell_type": "code",
   "execution_count": 7,
   "metadata": {},
   "outputs": [
    {
     "name": "stdout",
     "output_type": "stream",
     "text": [
      "+-----------------------+------------------+------------+\n",
      "|                       |   time_diff_mean | last_log   |\n",
      "+=======================+==================+============+\n",
      "| PAR01_Insolagrin      |          62.7901 | up to date |\n",
      "+-----------------------+------------------+------------+\n",
      "| PAR02_Insolagrin      |          62.7849 | up to date |\n",
      "+-----------------------+------------------+------------+\n",
      "| PAR03_Insolagrin      |          62.7849 | up to date |\n",
      "+-----------------------+------------------+------------+\n",
      "| PAR04_Insolagrin      |          62.7796 | up to date |\n",
      "+-----------------------+------------------+------------+\n",
      "| PAR01_EXT             |          62.7796 | up to date |\n",
      "+-----------------------+------------------+------------+\n",
      "| PAR02_EXT             |          62.7796 | up to date |\n",
      "+-----------------------+------------------+------------+\n",
      "| PAR01_control         |          62.7586 | up to date |\n",
      "+-----------------------+------------------+------------+\n",
      "| PAR02_control         |          62.7533 | up to date |\n",
      "+-----------------------+------------------+------------+\n",
      "| GHI_01_EXT            |          62.7586 | up to date |\n",
      "+-----------------------+------------------+------------+\n",
      "| TRH_top_Insolagrin    |          79.109  | up to date |\n",
      "+-----------------------+------------------+------------+\n",
      "| TRH_bottom_Insolagrin |          79.084  | up to date |\n",
      "+-----------------------+------------------+------------+\n",
      "| TRH_top_EXT           |          62.7796 | up to date |\n",
      "+-----------------------+------------------+------------+\n",
      "| TRH_bottom_EXT        |          63.5031 | up to date |\n",
      "+-----------------------+------------------+------------+\n",
      "| TRH_top_control       |          62.7586 | up to date |\n",
      "+-----------------------+------------------+------------+\n",
      "| TRH_bottom_control    |          63.5839 | up to date |\n",
      "+-----------------------+------------------+------------+\n",
      "| RAIN_EXT              |          31.3859 | up to date |\n",
      "+-----------------------+------------------+------------+\n",
      "| WIND01_EXT            |          62.7586 | up to date |\n",
      "+-----------------------+------------------+------------+\n",
      "| WIND02_EXT            |          62.7586 | up to date |\n",
      "+-----------------------+------------------+------------+\n"
     ]
    }
   ],
   "source": [
    "print(tabulate(df, headers=\"keys\", tablefmt=\"grid\", showindex=True))"
   ]
  },
  {
   "cell_type": "code",
   "execution_count": 20,
   "metadata": {},
   "outputs": [
    {
     "data": {
      "text/plain": [
       "{'PAR01_Insolagrin': 'up to date',\n",
       " 'PAR02_Insolagrin': 'up to date',\n",
       " 'PAR03_Insolagrin': 'up to date',\n",
       " 'PAR04_Insolagrin': 'up to date',\n",
       " 'PAR01_EXT': 'up to date',\n",
       " 'PAR02_EXT': 'up to date',\n",
       " 'PAR01_control': 'up to date',\n",
       " 'PAR02_control': 'up to date',\n",
       " 'GHI_01_EXT': 'up to date',\n",
       " 'TRH_top_Insolagrin': 'up to date',\n",
       " 'TRH_bottom_Insolagrin': 'up to date',\n",
       " 'TRH_top_EXT': 'up to date',\n",
       " 'TRH_bottom_EXT': 'up to date',\n",
       " 'TRH_top_control': 'up to date',\n",
       " 'TRH_bottom_control': 'up to date',\n",
       " 'RAIN_EXT': 'up to date',\n",
       " 'WIND01_EXT': 'up to date',\n",
       " 'WIND02_EXT': 'up to date'}"
      ]
     },
     "execution_count": 20,
     "metadata": {},
     "output_type": "execute_result"
    }
   ],
   "source": [
    "last_log"
   ]
  }
 ],
 "metadata": {
  "kernelspec": {
   "display_name": "insolinsights",
   "language": "python",
   "name": "python3"
  },
  "language_info": {
   "codemirror_mode": {
    "name": "ipython",
    "version": 3
   },
   "file_extension": ".py",
   "mimetype": "text/x-python",
   "name": "python",
   "nbconvert_exporter": "python",
   "pygments_lexer": "ipython3",
   "version": "3.11.3"
  }
 },
 "nbformat": 4,
 "nbformat_minor": 2
}
