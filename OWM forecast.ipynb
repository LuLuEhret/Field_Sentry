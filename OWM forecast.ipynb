{
 "cells": [
  {
   "cell_type": "code",
   "execution_count": 5,
   "metadata": {},
   "outputs": [
    {
     "data": {
      "application/vnd.plotly.v1+json": {
       "config": {
        "plotlyServerURL": "https://plot.ly"
       },
       "data": [
        {
         "line": {
          "color": "orange",
          "width": 2
         },
         "mode": "lines+markers",
         "name": "Temperature",
         "type": "scatter",
         "x": [
          "2023-12-11 15:00:00",
          "2023-12-11 18:00:00",
          "2023-12-11 21:00:00",
          "2023-12-12 00:00:00",
          "2023-12-12 03:00:00",
          "2023-12-12 06:00:00",
          "2023-12-12 09:00:00",
          "2023-12-12 12:00:00",
          "2023-12-12 15:00:00",
          "2023-12-12 18:00:00",
          "2023-12-12 21:00:00",
          "2023-12-13 00:00:00",
          "2023-12-13 03:00:00",
          "2023-12-13 06:00:00",
          "2023-12-13 09:00:00",
          "2023-12-13 12:00:00",
          "2023-12-13 15:00:00",
          "2023-12-13 18:00:00",
          "2023-12-13 21:00:00",
          "2023-12-14 00:00:00"
         ],
         "y": [
          7.31,
          8.26,
          9.79,
          9.42,
          9.38,
          10,
          10.55,
          10.65,
          10.63,
          10.41,
          9.57,
          8.28,
          8.29,
          7.83,
          7.73,
          8.29,
          7.22,
          6.28,
          5.81,
          5.21
         ]
        },
        {
         "line": {
          "color": "lightblue",
          "width": 2
         },
         "mode": "lines+markers",
         "name": "Snow",
         "type": "scatter",
         "x": [
          "2023-12-11 15:00:00",
          "2023-12-11 18:00:00",
          "2023-12-11 21:00:00",
          "2023-12-12 00:00:00",
          "2023-12-12 03:00:00",
          "2023-12-12 06:00:00",
          "2023-12-12 09:00:00",
          "2023-12-12 12:00:00",
          "2023-12-12 15:00:00",
          "2023-12-12 18:00:00",
          "2023-12-12 21:00:00",
          "2023-12-13 00:00:00",
          "2023-12-13 03:00:00",
          "2023-12-13 06:00:00",
          "2023-12-13 09:00:00",
          "2023-12-13 12:00:00",
          "2023-12-13 15:00:00",
          "2023-12-13 18:00:00",
          "2023-12-13 21:00:00",
          "2023-12-14 00:00:00"
         ],
         "y": [
          0,
          0,
          0,
          0,
          0,
          0,
          0,
          0,
          0,
          0,
          0,
          0,
          0,
          0,
          0,
          0,
          0,
          0,
          0,
          0
         ]
        },
        {
         "line": {
          "color": "darkcyan",
          "width": 2
         },
         "mode": "lines+markers",
         "name": "Rain",
         "type": "scatter",
         "x": [
          "2023-12-11 15:00:00",
          "2023-12-11 18:00:00",
          "2023-12-11 21:00:00",
          "2023-12-12 00:00:00",
          "2023-12-12 03:00:00",
          "2023-12-12 06:00:00",
          "2023-12-12 09:00:00",
          "2023-12-12 12:00:00",
          "2023-12-12 15:00:00",
          "2023-12-12 18:00:00",
          "2023-12-12 21:00:00",
          "2023-12-13 00:00:00",
          "2023-12-13 03:00:00",
          "2023-12-13 06:00:00",
          "2023-12-13 09:00:00",
          "2023-12-13 12:00:00",
          "2023-12-13 15:00:00",
          "2023-12-13 18:00:00",
          "2023-12-13 21:00:00",
          "2023-12-14 00:00:00"
         ],
         "y": [
          4.85,
          6.28,
          2.06,
          0.14,
          1.64,
          6.12,
          4.77,
          5.87,
          1.93,
          3.8,
          4.44,
          5.68,
          3.51,
          2.95,
          3.09,
          0.56,
          1.37,
          3.59,
          1.24,
          1.58
         ]
        },
        {
         "line": {
          "color": "darkred",
          "width": 2
         },
         "mode": "lines+markers",
         "name": "Wind",
         "type": "scatter",
         "x": [
          "2023-12-11 15:00:00",
          "2023-12-11 18:00:00",
          "2023-12-11 21:00:00",
          "2023-12-12 00:00:00",
          "2023-12-12 03:00:00",
          "2023-12-12 06:00:00",
          "2023-12-12 09:00:00",
          "2023-12-12 12:00:00",
          "2023-12-12 15:00:00",
          "2023-12-12 18:00:00",
          "2023-12-12 21:00:00",
          "2023-12-13 00:00:00",
          "2023-12-13 03:00:00",
          "2023-12-13 06:00:00",
          "2023-12-13 09:00:00",
          "2023-12-13 12:00:00",
          "2023-12-13 15:00:00",
          "2023-12-13 18:00:00",
          "2023-12-13 21:00:00",
          "2023-12-14 00:00:00"
         ],
         "y": [
          2.63,
          0.91,
          1.1,
          0.64,
          1.24,
          1.3,
          1.64,
          1.56,
          0.89,
          1.46,
          2.3,
          1.94,
          1.11,
          1.64,
          1.73,
          1.86,
          1.65,
          2.02,
          1.51,
          1.15
         ]
        },
        {
         "marker": {
          "color": "lightgrey"
         },
         "name": "Precipitation Probability",
         "type": "bar",
         "x": [
          "2023-12-11 15:00:00",
          "2023-12-11 18:00:00",
          "2023-12-11 21:00:00",
          "2023-12-12 00:00:00",
          "2023-12-12 03:00:00",
          "2023-12-12 06:00:00",
          "2023-12-12 09:00:00",
          "2023-12-12 12:00:00",
          "2023-12-12 15:00:00",
          "2023-12-12 18:00:00",
          "2023-12-12 21:00:00",
          "2023-12-13 00:00:00",
          "2023-12-13 03:00:00",
          "2023-12-13 06:00:00",
          "2023-12-13 09:00:00",
          "2023-12-13 12:00:00",
          "2023-12-13 15:00:00",
          "2023-12-13 18:00:00",
          "2023-12-13 21:00:00",
          "2023-12-14 00:00:00"
         ],
         "y": [
          1,
          1,
          0.93,
          0.88,
          0.93,
          0.93,
          0.94,
          0.93,
          0.83,
          0.84,
          0.93,
          0.98,
          0.99,
          0.98,
          0.8,
          0.8,
          0.8,
          0.84,
          0.88,
          0.88
         ]
        }
       ],
       "layout": {
        "legend": {
         "traceorder": "normal",
         "x": 1,
         "y": 1
        },
        "paper_bgcolor": "rgba(0,0,0,0)",
        "plot_bgcolor": "rgba(0,0,0,0)",
        "template": {
         "data": {
          "bar": [
           {
            "error_x": {
             "color": "#2a3f5f"
            },
            "error_y": {
             "color": "#2a3f5f"
            },
            "marker": {
             "line": {
              "color": "#E5ECF6",
              "width": 0.5
             },
             "pattern": {
              "fillmode": "overlay",
              "size": 10,
              "solidity": 0.2
             }
            },
            "type": "bar"
           }
          ],
          "barpolar": [
           {
            "marker": {
             "line": {
              "color": "#E5ECF6",
              "width": 0.5
             },
             "pattern": {
              "fillmode": "overlay",
              "size": 10,
              "solidity": 0.2
             }
            },
            "type": "barpolar"
           }
          ],
          "carpet": [
           {
            "aaxis": {
             "endlinecolor": "#2a3f5f",
             "gridcolor": "white",
             "linecolor": "white",
             "minorgridcolor": "white",
             "startlinecolor": "#2a3f5f"
            },
            "baxis": {
             "endlinecolor": "#2a3f5f",
             "gridcolor": "white",
             "linecolor": "white",
             "minorgridcolor": "white",
             "startlinecolor": "#2a3f5f"
            },
            "type": "carpet"
           }
          ],
          "choropleth": [
           {
            "colorbar": {
             "outlinewidth": 0,
             "ticks": ""
            },
            "type": "choropleth"
           }
          ],
          "contour": [
           {
            "colorbar": {
             "outlinewidth": 0,
             "ticks": ""
            },
            "colorscale": [
             [
              0,
              "#0d0887"
             ],
             [
              0.1111111111111111,
              "#46039f"
             ],
             [
              0.2222222222222222,
              "#7201a8"
             ],
             [
              0.3333333333333333,
              "#9c179e"
             ],
             [
              0.4444444444444444,
              "#bd3786"
             ],
             [
              0.5555555555555556,
              "#d8576b"
             ],
             [
              0.6666666666666666,
              "#ed7953"
             ],
             [
              0.7777777777777778,
              "#fb9f3a"
             ],
             [
              0.8888888888888888,
              "#fdca26"
             ],
             [
              1,
              "#f0f921"
             ]
            ],
            "type": "contour"
           }
          ],
          "contourcarpet": [
           {
            "colorbar": {
             "outlinewidth": 0,
             "ticks": ""
            },
            "type": "contourcarpet"
           }
          ],
          "heatmap": [
           {
            "colorbar": {
             "outlinewidth": 0,
             "ticks": ""
            },
            "colorscale": [
             [
              0,
              "#0d0887"
             ],
             [
              0.1111111111111111,
              "#46039f"
             ],
             [
              0.2222222222222222,
              "#7201a8"
             ],
             [
              0.3333333333333333,
              "#9c179e"
             ],
             [
              0.4444444444444444,
              "#bd3786"
             ],
             [
              0.5555555555555556,
              "#d8576b"
             ],
             [
              0.6666666666666666,
              "#ed7953"
             ],
             [
              0.7777777777777778,
              "#fb9f3a"
             ],
             [
              0.8888888888888888,
              "#fdca26"
             ],
             [
              1,
              "#f0f921"
             ]
            ],
            "type": "heatmap"
           }
          ],
          "heatmapgl": [
           {
            "colorbar": {
             "outlinewidth": 0,
             "ticks": ""
            },
            "colorscale": [
             [
              0,
              "#0d0887"
             ],
             [
              0.1111111111111111,
              "#46039f"
             ],
             [
              0.2222222222222222,
              "#7201a8"
             ],
             [
              0.3333333333333333,
              "#9c179e"
             ],
             [
              0.4444444444444444,
              "#bd3786"
             ],
             [
              0.5555555555555556,
              "#d8576b"
             ],
             [
              0.6666666666666666,
              "#ed7953"
             ],
             [
              0.7777777777777778,
              "#fb9f3a"
             ],
             [
              0.8888888888888888,
              "#fdca26"
             ],
             [
              1,
              "#f0f921"
             ]
            ],
            "type": "heatmapgl"
           }
          ],
          "histogram": [
           {
            "marker": {
             "pattern": {
              "fillmode": "overlay",
              "size": 10,
              "solidity": 0.2
             }
            },
            "type": "histogram"
           }
          ],
          "histogram2d": [
           {
            "colorbar": {
             "outlinewidth": 0,
             "ticks": ""
            },
            "colorscale": [
             [
              0,
              "#0d0887"
             ],
             [
              0.1111111111111111,
              "#46039f"
             ],
             [
              0.2222222222222222,
              "#7201a8"
             ],
             [
              0.3333333333333333,
              "#9c179e"
             ],
             [
              0.4444444444444444,
              "#bd3786"
             ],
             [
              0.5555555555555556,
              "#d8576b"
             ],
             [
              0.6666666666666666,
              "#ed7953"
             ],
             [
              0.7777777777777778,
              "#fb9f3a"
             ],
             [
              0.8888888888888888,
              "#fdca26"
             ],
             [
              1,
              "#f0f921"
             ]
            ],
            "type": "histogram2d"
           }
          ],
          "histogram2dcontour": [
           {
            "colorbar": {
             "outlinewidth": 0,
             "ticks": ""
            },
            "colorscale": [
             [
              0,
              "#0d0887"
             ],
             [
              0.1111111111111111,
              "#46039f"
             ],
             [
              0.2222222222222222,
              "#7201a8"
             ],
             [
              0.3333333333333333,
              "#9c179e"
             ],
             [
              0.4444444444444444,
              "#bd3786"
             ],
             [
              0.5555555555555556,
              "#d8576b"
             ],
             [
              0.6666666666666666,
              "#ed7953"
             ],
             [
              0.7777777777777778,
              "#fb9f3a"
             ],
             [
              0.8888888888888888,
              "#fdca26"
             ],
             [
              1,
              "#f0f921"
             ]
            ],
            "type": "histogram2dcontour"
           }
          ],
          "mesh3d": [
           {
            "colorbar": {
             "outlinewidth": 0,
             "ticks": ""
            },
            "type": "mesh3d"
           }
          ],
          "parcoords": [
           {
            "line": {
             "colorbar": {
              "outlinewidth": 0,
              "ticks": ""
             }
            },
            "type": "parcoords"
           }
          ],
          "pie": [
           {
            "automargin": true,
            "type": "pie"
           }
          ],
          "scatter": [
           {
            "fillpattern": {
             "fillmode": "overlay",
             "size": 10,
             "solidity": 0.2
            },
            "type": "scatter"
           }
          ],
          "scatter3d": [
           {
            "line": {
             "colorbar": {
              "outlinewidth": 0,
              "ticks": ""
             }
            },
            "marker": {
             "colorbar": {
              "outlinewidth": 0,
              "ticks": ""
             }
            },
            "type": "scatter3d"
           }
          ],
          "scattercarpet": [
           {
            "marker": {
             "colorbar": {
              "outlinewidth": 0,
              "ticks": ""
             }
            },
            "type": "scattercarpet"
           }
          ],
          "scattergeo": [
           {
            "marker": {
             "colorbar": {
              "outlinewidth": 0,
              "ticks": ""
             }
            },
            "type": "scattergeo"
           }
          ],
          "scattergl": [
           {
            "marker": {
             "colorbar": {
              "outlinewidth": 0,
              "ticks": ""
             }
            },
            "type": "scattergl"
           }
          ],
          "scattermapbox": [
           {
            "marker": {
             "colorbar": {
              "outlinewidth": 0,
              "ticks": ""
             }
            },
            "type": "scattermapbox"
           }
          ],
          "scatterpolar": [
           {
            "marker": {
             "colorbar": {
              "outlinewidth": 0,
              "ticks": ""
             }
            },
            "type": "scatterpolar"
           }
          ],
          "scatterpolargl": [
           {
            "marker": {
             "colorbar": {
              "outlinewidth": 0,
              "ticks": ""
             }
            },
            "type": "scatterpolargl"
           }
          ],
          "scatterternary": [
           {
            "marker": {
             "colorbar": {
              "outlinewidth": 0,
              "ticks": ""
             }
            },
            "type": "scatterternary"
           }
          ],
          "surface": [
           {
            "colorbar": {
             "outlinewidth": 0,
             "ticks": ""
            },
            "colorscale": [
             [
              0,
              "#0d0887"
             ],
             [
              0.1111111111111111,
              "#46039f"
             ],
             [
              0.2222222222222222,
              "#7201a8"
             ],
             [
              0.3333333333333333,
              "#9c179e"
             ],
             [
              0.4444444444444444,
              "#bd3786"
             ],
             [
              0.5555555555555556,
              "#d8576b"
             ],
             [
              0.6666666666666666,
              "#ed7953"
             ],
             [
              0.7777777777777778,
              "#fb9f3a"
             ],
             [
              0.8888888888888888,
              "#fdca26"
             ],
             [
              1,
              "#f0f921"
             ]
            ],
            "type": "surface"
           }
          ],
          "table": [
           {
            "cells": {
             "fill": {
              "color": "#EBF0F8"
             },
             "line": {
              "color": "white"
             }
            },
            "header": {
             "fill": {
              "color": "#C8D4E3"
             },
             "line": {
              "color": "white"
             }
            },
            "type": "table"
           }
          ]
         },
         "layout": {
          "annotationdefaults": {
           "arrowcolor": "#2a3f5f",
           "arrowhead": 0,
           "arrowwidth": 1
          },
          "autotypenumbers": "strict",
          "coloraxis": {
           "colorbar": {
            "outlinewidth": 0,
            "ticks": ""
           }
          },
          "colorscale": {
           "diverging": [
            [
             0,
             "#8e0152"
            ],
            [
             0.1,
             "#c51b7d"
            ],
            [
             0.2,
             "#de77ae"
            ],
            [
             0.3,
             "#f1b6da"
            ],
            [
             0.4,
             "#fde0ef"
            ],
            [
             0.5,
             "#f7f7f7"
            ],
            [
             0.6,
             "#e6f5d0"
            ],
            [
             0.7,
             "#b8e186"
            ],
            [
             0.8,
             "#7fbc41"
            ],
            [
             0.9,
             "#4d9221"
            ],
            [
             1,
             "#276419"
            ]
           ],
           "sequential": [
            [
             0,
             "#0d0887"
            ],
            [
             0.1111111111111111,
             "#46039f"
            ],
            [
             0.2222222222222222,
             "#7201a8"
            ],
            [
             0.3333333333333333,
             "#9c179e"
            ],
            [
             0.4444444444444444,
             "#bd3786"
            ],
            [
             0.5555555555555556,
             "#d8576b"
            ],
            [
             0.6666666666666666,
             "#ed7953"
            ],
            [
             0.7777777777777778,
             "#fb9f3a"
            ],
            [
             0.8888888888888888,
             "#fdca26"
            ],
            [
             1,
             "#f0f921"
            ]
           ],
           "sequentialminus": [
            [
             0,
             "#0d0887"
            ],
            [
             0.1111111111111111,
             "#46039f"
            ],
            [
             0.2222222222222222,
             "#7201a8"
            ],
            [
             0.3333333333333333,
             "#9c179e"
            ],
            [
             0.4444444444444444,
             "#bd3786"
            ],
            [
             0.5555555555555556,
             "#d8576b"
            ],
            [
             0.6666666666666666,
             "#ed7953"
            ],
            [
             0.7777777777777778,
             "#fb9f3a"
            ],
            [
             0.8888888888888888,
             "#fdca26"
            ],
            [
             1,
             "#f0f921"
            ]
           ]
          },
          "colorway": [
           "#636efa",
           "#EF553B",
           "#00cc96",
           "#ab63fa",
           "#FFA15A",
           "#19d3f3",
           "#FF6692",
           "#B6E880",
           "#FF97FF",
           "#FECB52"
          ],
          "font": {
           "color": "#2a3f5f"
          },
          "geo": {
           "bgcolor": "white",
           "lakecolor": "white",
           "landcolor": "#E5ECF6",
           "showlakes": true,
           "showland": true,
           "subunitcolor": "white"
          },
          "hoverlabel": {
           "align": "left"
          },
          "hovermode": "closest",
          "mapbox": {
           "style": "light"
          },
          "paper_bgcolor": "white",
          "plot_bgcolor": "#E5ECF6",
          "polar": {
           "angularaxis": {
            "gridcolor": "white",
            "linecolor": "white",
            "ticks": ""
           },
           "bgcolor": "#E5ECF6",
           "radialaxis": {
            "gridcolor": "white",
            "linecolor": "white",
            "ticks": ""
           }
          },
          "scene": {
           "xaxis": {
            "backgroundcolor": "#E5ECF6",
            "gridcolor": "white",
            "gridwidth": 2,
            "linecolor": "white",
            "showbackground": true,
            "ticks": "",
            "zerolinecolor": "white"
           },
           "yaxis": {
            "backgroundcolor": "#E5ECF6",
            "gridcolor": "white",
            "gridwidth": 2,
            "linecolor": "white",
            "showbackground": true,
            "ticks": "",
            "zerolinecolor": "white"
           },
           "zaxis": {
            "backgroundcolor": "#E5ECF6",
            "gridcolor": "white",
            "gridwidth": 2,
            "linecolor": "white",
            "showbackground": true,
            "ticks": "",
            "zerolinecolor": "white"
           }
          },
          "shapedefaults": {
           "line": {
            "color": "#2a3f5f"
           }
          },
          "ternary": {
           "aaxis": {
            "gridcolor": "white",
            "linecolor": "white",
            "ticks": ""
           },
           "baxis": {
            "gridcolor": "white",
            "linecolor": "white",
            "ticks": ""
           },
           "bgcolor": "#E5ECF6",
           "caxis": {
            "gridcolor": "white",
            "linecolor": "white",
            "ticks": ""
           }
          },
          "title": {
           "x": 0.05
          },
          "xaxis": {
           "automargin": true,
           "gridcolor": "white",
           "linecolor": "white",
           "ticks": "",
           "title": {
            "standoff": 15
           },
           "zerolinecolor": "white",
           "zerolinewidth": 2
          },
          "yaxis": {
           "automargin": true,
           "gridcolor": "white",
           "linecolor": "white",
           "ticks": "",
           "title": {
            "standoff": 15
           },
           "zerolinecolor": "white",
           "zerolinewidth": 2
          }
         }
        },
        "title": {
         "text": "Weather Forecast for Conthey"
        },
        "xaxis": {
         "gridcolor": "rgba(0,0,0,0.1)",
         "gridwidth": 1,
         "showgrid": true,
         "title": {
          "text": "Date"
         }
        },
        "yaxis": {
         "gridcolor": "rgba(0,0,0,0.1)",
         "gridwidth": 1,
         "showgrid": true,
         "title": {
          "text": "Values"
         }
        }
       }
      }
     },
     "metadata": {},
     "output_type": "display_data"
    },
    {
     "data": {
      "application/vnd.plotly.v1+json": {
       "config": {
        "plotlyServerURL": "https://plot.ly"
       },
       "data": [
        {
         "line": {
          "color": "orange",
          "width": 2
         },
         "mode": "lines+markers",
         "name": "Temperature",
         "type": "scatter",
         "x": [
          "2023-12-11 15:00:00",
          "2023-12-11 18:00:00",
          "2023-12-11 21:00:00",
          "2023-12-12 00:00:00",
          "2023-12-12 03:00:00",
          "2023-12-12 06:00:00",
          "2023-12-12 09:00:00",
          "2023-12-12 12:00:00",
          "2023-12-12 15:00:00",
          "2023-12-12 18:00:00",
          "2023-12-12 21:00:00",
          "2023-12-13 00:00:00",
          "2023-12-13 03:00:00",
          "2023-12-13 06:00:00",
          "2023-12-13 09:00:00",
          "2023-12-13 12:00:00",
          "2023-12-13 15:00:00",
          "2023-12-13 18:00:00",
          "2023-12-13 21:00:00",
          "2023-12-14 00:00:00"
         ],
         "y": [
          9.64,
          8.83,
          8.08,
          9.63,
          8.17,
          7.9,
          8.13,
          8.71,
          9.9,
          10.02,
          9.83,
          9.41,
          8.41,
          7.48,
          7.87,
          8.94,
          7.37,
          6.06,
          5.25,
          5.46
         ]
        },
        {
         "line": {
          "color": "lightblue",
          "width": 2
         },
         "mode": "lines+markers",
         "name": "Snow",
         "type": "scatter",
         "x": [
          "2023-12-11 15:00:00",
          "2023-12-11 18:00:00",
          "2023-12-11 21:00:00",
          "2023-12-12 00:00:00",
          "2023-12-12 03:00:00",
          "2023-12-12 06:00:00",
          "2023-12-12 09:00:00",
          "2023-12-12 12:00:00",
          "2023-12-12 15:00:00",
          "2023-12-12 18:00:00",
          "2023-12-12 21:00:00",
          "2023-12-13 00:00:00",
          "2023-12-13 03:00:00",
          "2023-12-13 06:00:00",
          "2023-12-13 09:00:00",
          "2023-12-13 12:00:00",
          "2023-12-13 15:00:00",
          "2023-12-13 18:00:00",
          "2023-12-13 21:00:00",
          "2023-12-14 00:00:00"
         ],
         "y": [
          0,
          0,
          0,
          0,
          0,
          0,
          0,
          0,
          0,
          0,
          0,
          0,
          0,
          0,
          0,
          0,
          0,
          0,
          0,
          0
         ]
        },
        {
         "line": {
          "color": "darkcyan",
          "width": 2
         },
         "mode": "lines+markers",
         "name": "Rain",
         "type": "scatter",
         "x": [
          "2023-12-11 15:00:00",
          "2023-12-11 18:00:00",
          "2023-12-11 21:00:00",
          "2023-12-12 00:00:00",
          "2023-12-12 03:00:00",
          "2023-12-12 06:00:00",
          "2023-12-12 09:00:00",
          "2023-12-12 12:00:00",
          "2023-12-12 15:00:00",
          "2023-12-12 18:00:00",
          "2023-12-12 21:00:00",
          "2023-12-13 00:00:00",
          "2023-12-13 03:00:00",
          "2023-12-13 06:00:00",
          "2023-12-13 09:00:00",
          "2023-12-13 12:00:00",
          "2023-12-13 15:00:00",
          "2023-12-13 18:00:00",
          "2023-12-13 21:00:00",
          "2023-12-14 00:00:00"
         ],
         "y": [
          2.29,
          0.24,
          0,
          1.79,
          0.31,
          3.64,
          5.5,
          6.07,
          5.4,
          3.43,
          1.21,
          3.95,
          2.61,
          0.9,
          0.5,
          0.79,
          0.49,
          0,
          0.56,
          0.14
         ]
        },
        {
         "line": {
          "color": "darkred",
          "width": 2
         },
         "mode": "lines+markers",
         "name": "Wind",
         "type": "scatter",
         "x": [
          "2023-12-11 15:00:00",
          "2023-12-11 18:00:00",
          "2023-12-11 21:00:00",
          "2023-12-12 00:00:00",
          "2023-12-12 03:00:00",
          "2023-12-12 06:00:00",
          "2023-12-12 09:00:00",
          "2023-12-12 12:00:00",
          "2023-12-12 15:00:00",
          "2023-12-12 18:00:00",
          "2023-12-12 21:00:00",
          "2023-12-13 00:00:00",
          "2023-12-13 03:00:00",
          "2023-12-13 06:00:00",
          "2023-12-13 09:00:00",
          "2023-12-13 12:00:00",
          "2023-12-13 15:00:00",
          "2023-12-13 18:00:00",
          "2023-12-13 21:00:00",
          "2023-12-14 00:00:00"
         ],
         "y": [
          3.45,
          2.64,
          1.38,
          2.79,
          1.66,
          2.38,
          0.96,
          0.72,
          2.17,
          4.31,
          4.24,
          5.44,
          5.03,
          3.83,
          4.39,
          5.28,
          4.49,
          4.28,
          4.98,
          4.59
         ]
        },
        {
         "marker": {
          "color": "lightgrey"
         },
         "name": "Precipitation Probability",
         "type": "bar",
         "x": [
          "2023-12-11 15:00:00",
          "2023-12-11 18:00:00",
          "2023-12-11 21:00:00",
          "2023-12-12 00:00:00",
          "2023-12-12 03:00:00",
          "2023-12-12 06:00:00",
          "2023-12-12 09:00:00",
          "2023-12-12 12:00:00",
          "2023-12-12 15:00:00",
          "2023-12-12 18:00:00",
          "2023-12-12 21:00:00",
          "2023-12-13 00:00:00",
          "2023-12-13 03:00:00",
          "2023-12-13 06:00:00",
          "2023-12-13 09:00:00",
          "2023-12-13 12:00:00",
          "2023-12-13 15:00:00",
          "2023-12-13 18:00:00",
          "2023-12-13 21:00:00",
          "2023-12-14 00:00:00"
         ],
         "y": [
          1,
          1,
          0.4,
          0.6,
          0.56,
          1,
          1,
          1,
          1,
          1,
          1,
          1,
          0.84,
          0.76,
          0.83,
          0.75,
          0.76,
          0.68,
          0.68,
          1
         ]
        }
       ],
       "layout": {
        "legend": {
         "traceorder": "normal",
         "x": 1,
         "y": 1
        },
        "paper_bgcolor": "rgba(0,0,0,0)",
        "plot_bgcolor": "rgba(0,0,0,0)",
        "template": {
         "data": {
          "bar": [
           {
            "error_x": {
             "color": "#2a3f5f"
            },
            "error_y": {
             "color": "#2a3f5f"
            },
            "marker": {
             "line": {
              "color": "#E5ECF6",
              "width": 0.5
             },
             "pattern": {
              "fillmode": "overlay",
              "size": 10,
              "solidity": 0.2
             }
            },
            "type": "bar"
           }
          ],
          "barpolar": [
           {
            "marker": {
             "line": {
              "color": "#E5ECF6",
              "width": 0.5
             },
             "pattern": {
              "fillmode": "overlay",
              "size": 10,
              "solidity": 0.2
             }
            },
            "type": "barpolar"
           }
          ],
          "carpet": [
           {
            "aaxis": {
             "endlinecolor": "#2a3f5f",
             "gridcolor": "white",
             "linecolor": "white",
             "minorgridcolor": "white",
             "startlinecolor": "#2a3f5f"
            },
            "baxis": {
             "endlinecolor": "#2a3f5f",
             "gridcolor": "white",
             "linecolor": "white",
             "minorgridcolor": "white",
             "startlinecolor": "#2a3f5f"
            },
            "type": "carpet"
           }
          ],
          "choropleth": [
           {
            "colorbar": {
             "outlinewidth": 0,
             "ticks": ""
            },
            "type": "choropleth"
           }
          ],
          "contour": [
           {
            "colorbar": {
             "outlinewidth": 0,
             "ticks": ""
            },
            "colorscale": [
             [
              0,
              "#0d0887"
             ],
             [
              0.1111111111111111,
              "#46039f"
             ],
             [
              0.2222222222222222,
              "#7201a8"
             ],
             [
              0.3333333333333333,
              "#9c179e"
             ],
             [
              0.4444444444444444,
              "#bd3786"
             ],
             [
              0.5555555555555556,
              "#d8576b"
             ],
             [
              0.6666666666666666,
              "#ed7953"
             ],
             [
              0.7777777777777778,
              "#fb9f3a"
             ],
             [
              0.8888888888888888,
              "#fdca26"
             ],
             [
              1,
              "#f0f921"
             ]
            ],
            "type": "contour"
           }
          ],
          "contourcarpet": [
           {
            "colorbar": {
             "outlinewidth": 0,
             "ticks": ""
            },
            "type": "contourcarpet"
           }
          ],
          "heatmap": [
           {
            "colorbar": {
             "outlinewidth": 0,
             "ticks": ""
            },
            "colorscale": [
             [
              0,
              "#0d0887"
             ],
             [
              0.1111111111111111,
              "#46039f"
             ],
             [
              0.2222222222222222,
              "#7201a8"
             ],
             [
              0.3333333333333333,
              "#9c179e"
             ],
             [
              0.4444444444444444,
              "#bd3786"
             ],
             [
              0.5555555555555556,
              "#d8576b"
             ],
             [
              0.6666666666666666,
              "#ed7953"
             ],
             [
              0.7777777777777778,
              "#fb9f3a"
             ],
             [
              0.8888888888888888,
              "#fdca26"
             ],
             [
              1,
              "#f0f921"
             ]
            ],
            "type": "heatmap"
           }
          ],
          "heatmapgl": [
           {
            "colorbar": {
             "outlinewidth": 0,
             "ticks": ""
            },
            "colorscale": [
             [
              0,
              "#0d0887"
             ],
             [
              0.1111111111111111,
              "#46039f"
             ],
             [
              0.2222222222222222,
              "#7201a8"
             ],
             [
              0.3333333333333333,
              "#9c179e"
             ],
             [
              0.4444444444444444,
              "#bd3786"
             ],
             [
              0.5555555555555556,
              "#d8576b"
             ],
             [
              0.6666666666666666,
              "#ed7953"
             ],
             [
              0.7777777777777778,
              "#fb9f3a"
             ],
             [
              0.8888888888888888,
              "#fdca26"
             ],
             [
              1,
              "#f0f921"
             ]
            ],
            "type": "heatmapgl"
           }
          ],
          "histogram": [
           {
            "marker": {
             "pattern": {
              "fillmode": "overlay",
              "size": 10,
              "solidity": 0.2
             }
            },
            "type": "histogram"
           }
          ],
          "histogram2d": [
           {
            "colorbar": {
             "outlinewidth": 0,
             "ticks": ""
            },
            "colorscale": [
             [
              0,
              "#0d0887"
             ],
             [
              0.1111111111111111,
              "#46039f"
             ],
             [
              0.2222222222222222,
              "#7201a8"
             ],
             [
              0.3333333333333333,
              "#9c179e"
             ],
             [
              0.4444444444444444,
              "#bd3786"
             ],
             [
              0.5555555555555556,
              "#d8576b"
             ],
             [
              0.6666666666666666,
              "#ed7953"
             ],
             [
              0.7777777777777778,
              "#fb9f3a"
             ],
             [
              0.8888888888888888,
              "#fdca26"
             ],
             [
              1,
              "#f0f921"
             ]
            ],
            "type": "histogram2d"
           }
          ],
          "histogram2dcontour": [
           {
            "colorbar": {
             "outlinewidth": 0,
             "ticks": ""
            },
            "colorscale": [
             [
              0,
              "#0d0887"
             ],
             [
              0.1111111111111111,
              "#46039f"
             ],
             [
              0.2222222222222222,
              "#7201a8"
             ],
             [
              0.3333333333333333,
              "#9c179e"
             ],
             [
              0.4444444444444444,
              "#bd3786"
             ],
             [
              0.5555555555555556,
              "#d8576b"
             ],
             [
              0.6666666666666666,
              "#ed7953"
             ],
             [
              0.7777777777777778,
              "#fb9f3a"
             ],
             [
              0.8888888888888888,
              "#fdca26"
             ],
             [
              1,
              "#f0f921"
             ]
            ],
            "type": "histogram2dcontour"
           }
          ],
          "mesh3d": [
           {
            "colorbar": {
             "outlinewidth": 0,
             "ticks": ""
            },
            "type": "mesh3d"
           }
          ],
          "parcoords": [
           {
            "line": {
             "colorbar": {
              "outlinewidth": 0,
              "ticks": ""
             }
            },
            "type": "parcoords"
           }
          ],
          "pie": [
           {
            "automargin": true,
            "type": "pie"
           }
          ],
          "scatter": [
           {
            "fillpattern": {
             "fillmode": "overlay",
             "size": 10,
             "solidity": 0.2
            },
            "type": "scatter"
           }
          ],
          "scatter3d": [
           {
            "line": {
             "colorbar": {
              "outlinewidth": 0,
              "ticks": ""
             }
            },
            "marker": {
             "colorbar": {
              "outlinewidth": 0,
              "ticks": ""
             }
            },
            "type": "scatter3d"
           }
          ],
          "scattercarpet": [
           {
            "marker": {
             "colorbar": {
              "outlinewidth": 0,
              "ticks": ""
             }
            },
            "type": "scattercarpet"
           }
          ],
          "scattergeo": [
           {
            "marker": {
             "colorbar": {
              "outlinewidth": 0,
              "ticks": ""
             }
            },
            "type": "scattergeo"
           }
          ],
          "scattergl": [
           {
            "marker": {
             "colorbar": {
              "outlinewidth": 0,
              "ticks": ""
             }
            },
            "type": "scattergl"
           }
          ],
          "scattermapbox": [
           {
            "marker": {
             "colorbar": {
              "outlinewidth": 0,
              "ticks": ""
             }
            },
            "type": "scattermapbox"
           }
          ],
          "scatterpolar": [
           {
            "marker": {
             "colorbar": {
              "outlinewidth": 0,
              "ticks": ""
             }
            },
            "type": "scatterpolar"
           }
          ],
          "scatterpolargl": [
           {
            "marker": {
             "colorbar": {
              "outlinewidth": 0,
              "ticks": ""
             }
            },
            "type": "scatterpolargl"
           }
          ],
          "scatterternary": [
           {
            "marker": {
             "colorbar": {
              "outlinewidth": 0,
              "ticks": ""
             }
            },
            "type": "scatterternary"
           }
          ],
          "surface": [
           {
            "colorbar": {
             "outlinewidth": 0,
             "ticks": ""
            },
            "colorscale": [
             [
              0,
              "#0d0887"
             ],
             [
              0.1111111111111111,
              "#46039f"
             ],
             [
              0.2222222222222222,
              "#7201a8"
             ],
             [
              0.3333333333333333,
              "#9c179e"
             ],
             [
              0.4444444444444444,
              "#bd3786"
             ],
             [
              0.5555555555555556,
              "#d8576b"
             ],
             [
              0.6666666666666666,
              "#ed7953"
             ],
             [
              0.7777777777777778,
              "#fb9f3a"
             ],
             [
              0.8888888888888888,
              "#fdca26"
             ],
             [
              1,
              "#f0f921"
             ]
            ],
            "type": "surface"
           }
          ],
          "table": [
           {
            "cells": {
             "fill": {
              "color": "#EBF0F8"
             },
             "line": {
              "color": "white"
             }
            },
            "header": {
             "fill": {
              "color": "#C8D4E3"
             },
             "line": {
              "color": "white"
             }
            },
            "type": "table"
           }
          ]
         },
         "layout": {
          "annotationdefaults": {
           "arrowcolor": "#2a3f5f",
           "arrowhead": 0,
           "arrowwidth": 1
          },
          "autotypenumbers": "strict",
          "coloraxis": {
           "colorbar": {
            "outlinewidth": 0,
            "ticks": ""
           }
          },
          "colorscale": {
           "diverging": [
            [
             0,
             "#8e0152"
            ],
            [
             0.1,
             "#c51b7d"
            ],
            [
             0.2,
             "#de77ae"
            ],
            [
             0.3,
             "#f1b6da"
            ],
            [
             0.4,
             "#fde0ef"
            ],
            [
             0.5,
             "#f7f7f7"
            ],
            [
             0.6,
             "#e6f5d0"
            ],
            [
             0.7,
             "#b8e186"
            ],
            [
             0.8,
             "#7fbc41"
            ],
            [
             0.9,
             "#4d9221"
            ],
            [
             1,
             "#276419"
            ]
           ],
           "sequential": [
            [
             0,
             "#0d0887"
            ],
            [
             0.1111111111111111,
             "#46039f"
            ],
            [
             0.2222222222222222,
             "#7201a8"
            ],
            [
             0.3333333333333333,
             "#9c179e"
            ],
            [
             0.4444444444444444,
             "#bd3786"
            ],
            [
             0.5555555555555556,
             "#d8576b"
            ],
            [
             0.6666666666666666,
             "#ed7953"
            ],
            [
             0.7777777777777778,
             "#fb9f3a"
            ],
            [
             0.8888888888888888,
             "#fdca26"
            ],
            [
             1,
             "#f0f921"
            ]
           ],
           "sequentialminus": [
            [
             0,
             "#0d0887"
            ],
            [
             0.1111111111111111,
             "#46039f"
            ],
            [
             0.2222222222222222,
             "#7201a8"
            ],
            [
             0.3333333333333333,
             "#9c179e"
            ],
            [
             0.4444444444444444,
             "#bd3786"
            ],
            [
             0.5555555555555556,
             "#d8576b"
            ],
            [
             0.6666666666666666,
             "#ed7953"
            ],
            [
             0.7777777777777778,
             "#fb9f3a"
            ],
            [
             0.8888888888888888,
             "#fdca26"
            ],
            [
             1,
             "#f0f921"
            ]
           ]
          },
          "colorway": [
           "#636efa",
           "#EF553B",
           "#00cc96",
           "#ab63fa",
           "#FFA15A",
           "#19d3f3",
           "#FF6692",
           "#B6E880",
           "#FF97FF",
           "#FECB52"
          ],
          "font": {
           "color": "#2a3f5f"
          },
          "geo": {
           "bgcolor": "white",
           "lakecolor": "white",
           "landcolor": "#E5ECF6",
           "showlakes": true,
           "showland": true,
           "subunitcolor": "white"
          },
          "hoverlabel": {
           "align": "left"
          },
          "hovermode": "closest",
          "mapbox": {
           "style": "light"
          },
          "paper_bgcolor": "white",
          "plot_bgcolor": "#E5ECF6",
          "polar": {
           "angularaxis": {
            "gridcolor": "white",
            "linecolor": "white",
            "ticks": ""
           },
           "bgcolor": "#E5ECF6",
           "radialaxis": {
            "gridcolor": "white",
            "linecolor": "white",
            "ticks": ""
           }
          },
          "scene": {
           "xaxis": {
            "backgroundcolor": "#E5ECF6",
            "gridcolor": "white",
            "gridwidth": 2,
            "linecolor": "white",
            "showbackground": true,
            "ticks": "",
            "zerolinecolor": "white"
           },
           "yaxis": {
            "backgroundcolor": "#E5ECF6",
            "gridcolor": "white",
            "gridwidth": 2,
            "linecolor": "white",
            "showbackground": true,
            "ticks": "",
            "zerolinecolor": "white"
           },
           "zaxis": {
            "backgroundcolor": "#E5ECF6",
            "gridcolor": "white",
            "gridwidth": 2,
            "linecolor": "white",
            "showbackground": true,
            "ticks": "",
            "zerolinecolor": "white"
           }
          },
          "shapedefaults": {
           "line": {
            "color": "#2a3f5f"
           }
          },
          "ternary": {
           "aaxis": {
            "gridcolor": "white",
            "linecolor": "white",
            "ticks": ""
           },
           "baxis": {
            "gridcolor": "white",
            "linecolor": "white",
            "ticks": ""
           },
           "bgcolor": "#E5ECF6",
           "caxis": {
            "gridcolor": "white",
            "linecolor": "white",
            "ticks": ""
           }
          },
          "title": {
           "x": 0.05
          },
          "xaxis": {
           "automargin": true,
           "gridcolor": "white",
           "linecolor": "white",
           "ticks": "",
           "title": {
            "standoff": 15
           },
           "zerolinecolor": "white",
           "zerolinewidth": 2
          },
          "yaxis": {
           "automargin": true,
           "gridcolor": "white",
           "linecolor": "white",
           "ticks": "",
           "title": {
            "standoff": 15
           },
           "zerolinecolor": "white",
           "zerolinewidth": 2
          }
         }
        },
        "title": {
         "text": "Weather Forecast for Bioschmid"
        },
        "xaxis": {
         "gridcolor": "rgba(0,0,0,0.1)",
         "gridwidth": 1,
         "showgrid": true,
         "title": {
          "text": "Date"
         }
        },
        "yaxis": {
         "gridcolor": "rgba(0,0,0,0.1)",
         "gridwidth": 1,
         "showgrid": true,
         "title": {
          "text": "Values"
         }
        }
       }
      }
     },
     "metadata": {},
     "output_type": "display_data"
    },
    {
     "name": "stdout",
     "output_type": "stream",
     "text": [
      "\u001b[91mBioschmid: Strong wind at 2023-12-13 00:00:00 \n",
      "\u001b[0m\n",
      "\u001b[91mBioschmid: Strong wind at 2023-12-13 03:00:00 \n",
      "\u001b[0m\n",
      "\u001b[91mBioschmid: Strong wind at 2023-12-13 12:00:00 \n",
      "\u001b[0m\n"
     ]
    }
   ],
   "source": [
    "import requests\n",
    "import plotly.graph_objects as go\n",
    "import matplotlib.pyplot as plt\n",
    "import numpy as np\n",
    "import os\n",
    "import datetime\n",
    "import sys\n",
    "import pendulum as pdl\n",
    "from insolAPI.WebAPI import API\n",
    "\n",
    "\"\"\"\n",
    "Parameters and response: https://openweathermap.org/forecast5\n",
    "\"\"\"\n",
    "\n",
    "#show_plot is the first argument of the script if htere is one, else it is False\n",
    "if len(sys.argv) > 1:\n",
    "    SHOW_PLOT = sys.argv[1]\n",
    "else:\n",
    "    SHOW_PLOT = False\n",
    "\n",
    "\n",
    "class Color:\n",
    "    RED = '\\033[91m'\n",
    "    GREEN = '\\033[92m'\n",
    "    YELLOW = '\\033[93m'\n",
    "    BLUE = '\\033[94m'\n",
    "    RESET = '\\033[0m'\n",
    "\n",
    "def get_weather_forecast(api_key, city_name):\n",
    "    base_url = \"http://api.openweathermap.org/data/2.5/forecast\"\n",
    "    params = {\n",
    "        'appid': api_key,\n",
    "        'cnt': '20',\n",
    "        'units': 'metric'\n",
    "    }\n",
    "    if city_name == \"Conthey\":\n",
    "        params[\"lat\"] = '46.210646'\n",
    "        params[\"lon\"] = '7.30504'\n",
    "    elif city_name == \"Bioschmid\":\n",
    "        params[\"lat\"] = '47.250876'\n",
    "        params[\"lon\"] = '8.238644'\n",
    "\n",
    "    try:\n",
    "        response = requests.get(base_url, params=params)\n",
    "        response.raise_for_status()\n",
    "        data = response.json()\n",
    "\n",
    "        update_request_count()\n",
    "        return data\n",
    "\n",
    "    except requests.exceptions.RequestException as e:\n",
    "        print(f\"Error: {e}\")\n",
    "        return None\n",
    "\n",
    "\n",
    "\n",
    "def plot_weather_forecast(weather_data, city_name):\n",
    "    forecast_date = []\n",
    "    forecast_temp = []\n",
    "    forecast_snow = []\n",
    "    forecast_rain = []\n",
    "    forecast_wind = []\n",
    "    forecast_pop = []\n",
    "\n",
    "    for forecast in weather_data[\"list\"]:\n",
    "        forecast_date.append(forecast[\"dt_txt\"])\n",
    "        forecast_temp.append(forecast[\"main\"][\"temp\"])\n",
    "        forecast_wind.append(forecast[\"wind\"][\"speed\"])\n",
    "        forecast_pop.append(forecast[\"pop\"])\n",
    "        try:\n",
    "            forecast_snow.append(forecast[\"snow\"][\"3h\"])\n",
    "        except:\n",
    "            forecast_snow.append(0)\n",
    "        try:\n",
    "            forecast_rain.append(forecast[\"rain\"][\"3h\"])\n",
    "        except:\n",
    "            forecast_rain.append(0)\n",
    "\n",
    "    fig = go.Figure()\n",
    "    fig.add_trace(go.Scatter(x=forecast_date, y=forecast_temp,\n",
    "                        mode='lines+markers',\n",
    "                        name='Temperature', line=dict(color='orange', width=2)))\n",
    "    fig.add_trace(go.Scatter(x=forecast_date, y=forecast_snow,\n",
    "                        mode='lines+markers',\n",
    "                        name='Snow', line=dict(color='lightblue', width=2)))\n",
    "    fig.add_trace(go.Scatter(x=forecast_date, y=forecast_rain,\n",
    "                        mode='lines+markers',\n",
    "                        name='Rain', line=dict(color='darkcyan', width=2)))\n",
    "    fig.add_trace(go.Scatter(x=forecast_date, y=forecast_wind,\n",
    "                        mode='lines+markers',\n",
    "                        name='Wind', line=dict(color='darkred', width=2)))\n",
    "    fig.add_trace(go.Bar(x=forecast_date, y=forecast_pop, name='Precipitation Probability', marker_color='lightgrey'))\n",
    "\n",
    "    # Update layout for better visualization\n",
    "    fig.update_layout(title=\"Weather Forecast for \" + city_name + \"\",\n",
    "                    xaxis_title=\"Date\",\n",
    "                    yaxis_title=\"Values\",\n",
    "                    legend=dict(x=1, y=1, traceorder='normal'),\n",
    "                    # Background color of the entire graph area,\n",
    "                    paper_bgcolor='rgba(0,0,0,0)',\n",
    "                    plot_bgcolor='rgba(0,0,0,0)')\n",
    "\n",
    "    fig.update_xaxes(showgrid=True, gridwidth=1, gridcolor='rgba(0,0,0,0.1)')\n",
    "    fig.update_yaxes(showgrid=True, gridwidth=1, gridcolor='rgba(0,0,0,0.1)')\n",
    "\n",
    "    fig.show()\n",
    "\n",
    "\n",
    "def alert_user(weather_data):\n",
    "    # alert_snow = False\n",
    "    # Alert the user if the temperature is above a certain threshold\n",
    "    time_of_alert = []\n",
    "    alert_list = []\n",
    "    will_it_snow = False\n",
    "    strong_wind = False\n",
    "    for forecast in weather_data['list']:\n",
    "        try:\n",
    "            if bool(forecast['snow']['3h']):\n",
    "                alert_list.append(\"Snow fall\")\n",
    "                alert_list.append(forecast[\"dt_txt\"])\n",
    "            # time_of_alert.append(forecast['dt_txt'])\n",
    "        except:\n",
    "            pass\n",
    "        if forecast['wind']['speed'] > 5:\n",
    "            alert_list.append(\"Strong wind\")\n",
    "            alert_list.append(forecast[\"dt_txt\"])\n",
    "    return alert_list\n",
    "\n",
    "\n",
    "\n",
    "def update_request_count():\n",
    "    file_name = \"count_requests.csv\"\n",
    "\n",
    "    # Check if the file exists\n",
    "    if os.path.exists(file_name):\n",
    "        # Read the last line and get the count\n",
    "        with open(file_name, \"r\") as file:\n",
    "            lines = file.readlines()\n",
    "            if lines:\n",
    "                last_line = lines[-1].strip()\n",
    "                count = int(last_line.split(',')[1]) + 1\n",
    "            else:\n",
    "                count = 1\n",
    "            # add the number of requests made during the last hour\n",
    "            last_hour = datetime.datetime.now() - datetime.timedelta(hours=1)\n",
    "            count_last_hour = 1\n",
    "            for line in lines:\n",
    "                if datetime.datetime.strptime(line.split(',')[4].strip(), \"%Y-%m-%d %H:%M:%S\") >= last_hour:\n",
    "                    count_last_hour = count_last_hour + 1\n",
    "    else:\n",
    "        # If the file doesn't exist, create it and set count to 1\n",
    "        count = 1\n",
    "        count_last_hour = 1\n",
    "\n",
    "    # Get the current timestamp\n",
    "    timestamp = datetime.datetime.now().strftime(\"%Y-%m-%d %H:%M:%S\")\n",
    "\n",
    "    # Write the new line to the file\n",
    "    with open(file_name, \"a\") as file:\n",
    "        file.write(f\"Total,{count},last hour,{count_last_hour},{timestamp}\\n\")\n",
    "\n",
    "\n",
    "\n",
    "def log_reports(alerts, loc):\n",
    "    file_name = \"log_reports.csv\"\n",
    "\n",
    "    # Get the current timestamp\n",
    "    timestamp = datetime.datetime.now().strftime(\"%Y-%m-%d %H:%M:%S\")\n",
    "\n",
    "    # Open the file in append mode (create if it doesn't exist)\n",
    "    with open(file_name, \"a\") as file:\n",
    "        # Write a new line with timestamp and alerts\n",
    "        file.write(f\"{loc},{timestamp}, {', '.join(alerts)}\\n\")\n",
    "\n",
    "\n",
    "\n",
    "if __name__ == \"__main__\":\n",
    "    # Replace 'YOUR_API_KEY' with your actual OpenWeatherMap API key\n",
    "    api_key = '47b3b8c2f8061c46d61d01f2cbf28557'\n",
    "\n",
    "    locations = [\"Conthey\", \"Bioschmid\"]\n",
    "    weather_data = {}\n",
    "    dict_alerts = {}\n",
    "    list_snow_time = []\n",
    "    list_wind_time = []\n",
    "    dict_time_of_snow = {}\n",
    "    dict_time_of_wind = {}\n",
    "\n",
    "    for loc in locations:\n",
    "        weather_data[loc] = get_weather_forecast(api_key, loc)\n",
    "        if SHOW_PLOT: plot_weather_forecast(weather_data[loc], loc)\n",
    "        dict_alerts[loc] = alert_user(weather_data[loc])\n",
    "        for i in range(0, len(dict_alerts[loc]), 2):\n",
    "            print(Color.RED + f\"{loc}: {dict_alerts[loc][i]} at {dict_alerts[loc][i+1]} \\n\" + Color.RESET)\n",
    "\n",
    "            if dict_alerts[loc][i] == \"Snow fall\":\n",
    "                list_snow_time.append(dict_alerts[loc][i+1])\n",
    "            if dict_alerts[loc][i] == \"Strong wind\":\n",
    "                list_wind_time.append(dict_alerts[loc][i+1])\n",
    "        if len(list_snow_time) > 0:\n",
    "            dict_time_of_snow[loc] = list_snow_time\n",
    "        if len(list_wind_time) > 0:\n",
    "            dict_time_of_wind[loc] = list_wind_time\n",
    "\n",
    "        log_reports(dict_alerts[loc], loc)"
   ]
  },
  {
   "cell_type": "code",
   "execution_count": 7,
   "metadata": {},
   "outputs": [
    {
     "data": {
      "text/plain": [
       "{'Bioschmid': ['2023-12-13 00:00:00',\n",
       "  '2023-12-13 03:00:00',\n",
       "  '2023-12-13 12:00:00']}"
      ]
     },
     "execution_count": 7,
     "metadata": {},
     "output_type": "execute_result"
    }
   ],
   "source": [
    "dict_time_of_wind"
   ]
  }
 ],
 "metadata": {
  "kernelspec": {
   "display_name": "dataViz",
   "language": "python",
   "name": "python3"
  },
  "language_info": {
   "codemirror_mode": {
    "name": "ipython",
    "version": 3
   },
   "file_extension": ".py",
   "mimetype": "text/x-python",
   "name": "python",
   "nbconvert_exporter": "python",
   "pygments_lexer": "ipython3",
   "version": "3.11.3"
  }
 },
 "nbformat": 4,
 "nbformat_minor": 2
}
